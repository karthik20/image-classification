{
 "cells": [
  {
   "cell_type": "markdown",
   "metadata": {
    "collapsed": true
   },
   "source": [
    "# Image Classification\n",
    "In this project, you'll classify images from the [CIFAR-10 dataset](https://www.cs.toronto.edu/~kriz/cifar.html).  The dataset consists of airplanes, dogs, cats, and other objects. You'll preprocess the images, then train a convolutional neural network on all the samples. The images need to be normalized and the labels need to be one-hot encoded.  You'll get to apply what you learned and build a convolutional, max pooling, dropout, and fully connected layers.  At the end, you'll get to see your neural network's predictions on the sample images.\n",
    "## Get the Data\n",
    "Run the following cell to download the [CIFAR-10 dataset for python](https://www.cs.toronto.edu/~kriz/cifar-10-python.tar.gz)."
   ]
  },
  {
   "cell_type": "code",
   "execution_count": null,
   "metadata": {
    "collapsed": true
   },
   "outputs": [],
   "source": [
    "\"\"\"\n",
    "DON'T MODIFY ANYTHING IN THIS CELL THAT IS BELOW THIS LINE\n",
    "\"\"\"\n",
    "from urllib.request import urlretrieve\n",
    "from os.path import isfile, isdir\n",
    "from tqdm import tqdm\n",
    "import problem_unittests as tests\n",
    "import tarfile\n",
    "\n",
    "cifar10_dataset_folder_path = 'cifar-10-batches-py'\n",
    "\n",
    "# Use Floyd's cifar-10 dataset if present\n",
    "floyd_cifar10_location = '/input/cifar-10/python.tar.gz'\n",
    "if isfile(floyd_cifar10_location):\n",
    "    tar_gz_path = floyd_cifar10_location\n",
    "else:\n",
    "    tar_gz_path = 'cifar-10-python.tar.gz'\n",
    "\n",
    "class DLProgress(tqdm):\n",
    "    last_block = 0\n",
    "\n",
    "    def hook(self, block_num=1, block_size=1, total_size=None):\n",
    "        self.total = total_size\n",
    "        self.update((block_num - self.last_block) * block_size)\n",
    "        self.last_block = block_num\n",
    "\n",
    "if not isfile(tar_gz_path):\n",
    "    with DLProgress(unit='B', unit_scale=True, miniters=1, desc='CIFAR-10 Dataset') as pbar:\n",
    "        urlretrieve(\n",
    "            'https://www.cs.toronto.edu/~kriz/cifar-10-python.tar.gz',\n",
    "            tar_gz_path,\n",
    "            pbar.hook)\n",
    "\n",
    "if not isdir(cifar10_dataset_folder_path):\n",
    "    with tarfile.open(tar_gz_path) as tar:\n",
    "        tar.extractall()\n",
    "        tar.close()\n",
    "\n",
    "\n",
    "tests.test_folder_path(cifar10_dataset_folder_path)"
   ]
  },
  {
   "cell_type": "markdown",
   "metadata": {},
   "source": [
    "## Explore the Data\n",
    "The dataset is broken into batches to prevent your machine from running out of memory.  The CIFAR-10 dataset consists of 5 batches, named `data_batch_1`, `data_batch_2`, etc.. Each batch contains the labels and images that are one of the following:\n",
    "* airplane\n",
    "* automobile\n",
    "* bird\n",
    "* cat\n",
    "* deer\n",
    "* dog\n",
    "* frog\n",
    "* horse\n",
    "* ship\n",
    "* truck\n",
    "\n",
    "Understanding a dataset is part of making predictions on the data.  Play around with the code cell below by changing the `batch_id` and `sample_id`. The `batch_id` is the id for a batch (1-5). The `sample_id` is the id for a image and label pair in the batch.\n",
    "\n",
    "Ask yourself \"What are all possible labels?\", \"What is the range of values for the image data?\", \"Are the labels in order or random?\".  Answers to questions like these will help you preprocess the data and end up with better predictions."
   ]
  },
  {
   "cell_type": "code",
   "execution_count": null,
   "metadata": {
    "collapsed": true
   },
   "outputs": [],
   "source": [
    "%matplotlib inline\n",
    "%config InlineBackend.figure_format = 'retina'\n",
    "\n",
    "import helper\n",
    "import numpy as np\n",
    "\n",
    "# Explore the dataset\n",
    "batch_id = 1\n",
    "sample_id = 5\n",
    "helper.display_stats(cifar10_dataset_folder_path, batch_id, sample_id)"
   ]
  },
  {
   "cell_type": "markdown",
   "metadata": {},
   "source": [
    "## Implement Preprocess Functions\n",
    "### Normalize\n",
    "In the cell below, implement the `normalize` function to take in image data, `x`, and return it as a normalized Numpy array. The values should be in the range of 0 to 1, inclusive.  The return object should be the same shape as `x`."
   ]
  },
  {
   "cell_type": "code",
   "execution_count": null,
   "metadata": {
    "collapsed": true
   },
   "outputs": [],
   "source": [
    "def normalize(x):\n",
    "    \"\"\"\n",
    "    Normalize a list of sample image data in the range of 0 to 1\n",
    "    : x: List of image data.  The image shape is (32, 32, 3)\n",
    "    : return: Numpy array of normalize data\n",
    "    \"\"\"\n",
    "    # Normalizing in parts of 255 for the color depth to be in range between 0-1\n",
    "    return x/255\n",
    "\n",
    "\n",
    "\"\"\"\n",
    "DON'T MODIFY ANYTHING IN THIS CELL THAT IS BELOW THIS LINE\n",
    "\"\"\"\n",
    "tests.test_normalize(normalize)"
   ]
  },
  {
   "cell_type": "markdown",
   "metadata": {},
   "source": [
    "### One-hot encode\n",
    "Just like the previous code cell, you'll be implementing a function for preprocessing.  This time, you'll implement the `one_hot_encode` function. The input, `x`, are a list of labels.  Implement the function to return the list of labels as One-Hot encoded Numpy array.  The possible values for labels are 0 to 9. The one-hot encoding function should return the same encoding for each value between each call to `one_hot_encode`.  Make sure to save the map of encodings outside the function.\n",
    "\n",
    "Hint: Don't reinvent the wheel."
   ]
  },
  {
   "cell_type": "code",
   "execution_count": null,
   "metadata": {
    "collapsed": true
   },
   "outputs": [],
   "source": [
    "from sklearn import preprocessing\n",
    "\n",
    "def one_hot_encode(x):\n",
    "    \"\"\"\n",
    "    One hot encode a list of sample labels. Return a one-hot encoded vector for each label.\n",
    "    : x: List of sample Labels\n",
    "    : return: Numpy array of one-hot encoded labels\n",
    "    \"\"\"\n",
    "    one_hot_labels = preprocessing.LabelBinarizer()\n",
    "    one_hot_labels.fit(range(10))\n",
    "    return one_hot_labels.transform(x)\n",
    "\n",
    "\n",
    "\n",
    "\"\"\"\n",
    "DON'T MODIFY ANYTHING IN THIS CELL THAT IS BELOW THIS LINE\n",
    "\"\"\"\n",
    "tests.test_one_hot_encode(one_hot_encode)"
   ]
  },
  {
   "cell_type": "markdown",
   "metadata": {},
   "source": [
    "### Randomize Data\n",
    "As you saw from exploring the data above, the order of the samples are randomized.  It doesn't hurt to randomize it again, but you don't need to for this dataset."
   ]
  },
  {
   "cell_type": "markdown",
   "metadata": {},
   "source": [
    "## Preprocess all the data and save it\n",
    "Running the code cell below will preprocess all the CIFAR-10 data and save it to file. The code below also uses 10% of the training data for validation."
   ]
  },
  {
   "cell_type": "code",
   "execution_count": null,
   "metadata": {
    "collapsed": true
   },
   "outputs": [],
   "source": [
    "\"\"\"\n",
    "DON'T MODIFY ANYTHING IN THIS CELL\n",
    "\"\"\"\n",
    "# Preprocess Training, Validation, and Testing Data\n",
    "helper.preprocess_and_save_data(cifar10_dataset_folder_path, normalize, one_hot_encode)"
   ]
  },
  {
   "cell_type": "markdown",
   "metadata": {},
   "source": [
    "# Check Point\n",
    "This is your first checkpoint.  If you ever decide to come back to this notebook or have to restart the notebook, you can start from here.  The preprocessed data has been saved to disk."
   ]
  },
  {
   "cell_type": "code",
   "execution_count": 1,
   "metadata": {
    "collapsed": true
   },
   "outputs": [],
   "source": [
    "\"\"\"\n",
    "DON'T MODIFY ANYTHING IN THIS CELL\n",
    "\"\"\"\n",
    "import pickle\n",
    "import problem_unittests as tests\n",
    "import helper\n",
    "\n",
    "# Load the Preprocessed Validation data\n",
    "valid_features, valid_labels = pickle.load(open('preprocess_validation.p', mode='rb'))"
   ]
  },
  {
   "cell_type": "markdown",
   "metadata": {},
   "source": [
    "## Build the network\n",
    "For the neural network, you'll build each layer into a function.  Most of the code you've seen has been outside of functions. To test your code more thoroughly, we require that you put each layer in a function.  This allows us to give you better feedback and test for simple mistakes using our unittests before you submit your project.\n",
    "\n",
    ">**Note:** If you're finding it hard to dedicate enough time for this course each week, we've provided a small shortcut to this part of the project. In the next couple of problems, you'll have the option to use classes from the [TensorFlow Layers](https://www.tensorflow.org/api_docs/python/tf/layers) or [TensorFlow Layers (contrib)](https://www.tensorflow.org/api_guides/python/contrib.layers) packages to build each layer, except the layers you build in the \"Convolutional and Max Pooling Layer\" section.  TF Layers is similar to Keras's and TFLearn's abstraction to layers, so it's easy to pickup.\n",
    "\n",
    ">However, if you would like to get the most out of this course, try to solve all the problems _without_ using anything from the TF Layers packages. You **can** still use classes from other packages that happen to have the same name as ones you find in TF Layers! For example, instead of using the TF Layers version of the `conv2d` class, [tf.layers.conv2d](https://www.tensorflow.org/api_docs/python/tf/layers/conv2d), you would want to use the TF Neural Network version of `conv2d`, [tf.nn.conv2d](https://www.tensorflow.org/api_docs/python/tf/nn/conv2d). \n",
    "\n",
    "Let's begin!\n",
    "\n",
    "### Input\n",
    "The neural network needs to read the image data, one-hot encoded labels, and dropout keep probability. Implement the following functions\n",
    "* Implement `neural_net_image_input`\n",
    " * Return a [TF Placeholder](https://www.tensorflow.org/api_docs/python/tf/placeholder)\n",
    " * Set the shape using `image_shape` with batch size set to `None`.\n",
    " * Name the TensorFlow placeholder \"x\" using the TensorFlow `name` parameter in the [TF Placeholder](https://www.tensorflow.org/api_docs/python/tf/placeholder).\n",
    "* Implement `neural_net_label_input`\n",
    " * Return a [TF Placeholder](https://www.tensorflow.org/api_docs/python/tf/placeholder)\n",
    " * Set the shape using `n_classes` with batch size set to `None`.\n",
    " * Name the TensorFlow placeholder \"y\" using the TensorFlow `name` parameter in the [TF Placeholder](https://www.tensorflow.org/api_docs/python/tf/placeholder).\n",
    "* Implement `neural_net_keep_prob_input`\n",
    " * Return a [TF Placeholder](https://www.tensorflow.org/api_docs/python/tf/placeholder) for dropout keep probability.\n",
    " * Name the TensorFlow placeholder \"keep_prob\" using the TensorFlow `name` parameter in the [TF Placeholder](https://www.tensorflow.org/api_docs/python/tf/placeholder).\n",
    "\n",
    "These names will be used at the end of the project to load your saved model.\n",
    "\n",
    "Note: `None` for shapes in TensorFlow allow for a dynamic size."
   ]
  },
  {
   "cell_type": "code",
   "execution_count": 2,
   "metadata": {},
   "outputs": [
    {
     "name": "stdout",
     "output_type": "stream",
     "text": [
      "Image Input Tests Passed.\n",
      "Label Input Tests Passed.\n",
      "Keep Prob Tests Passed.\n"
     ]
    }
   ],
   "source": [
    "import tensorflow as tf\n",
    "\n",
    "def neural_net_image_input(image_shape):\n",
    "    \"\"\"\n",
    "    Return a Tensor for a batch of image input\n",
    "    : image_shape: Shape of the images\n",
    "    : return: Tensor for image input.\n",
    "    \"\"\"\n",
    "    x = tf.placeholder(tf.float32, shape = [None,*image_shape], name = \"x\")\n",
    "    return x\n",
    "\n",
    "\n",
    "def neural_net_label_input(n_classes):\n",
    "    \"\"\"\n",
    "    Return a Tensor for a batch of label input\n",
    "    : n_classes: Number of classes\n",
    "    : return: Tensor for label input.\n",
    "    \"\"\"\n",
    "    y = tf.placeholder(tf.float32, shape=[None, n_classes], name=\"y\")\n",
    "    \n",
    "    return y\n",
    "\n",
    "\n",
    "def neural_net_keep_prob_input():\n",
    "    \"\"\"\n",
    "    Return a Tensor for keep probability\n",
    "    : return: Tensor for keep probability.\n",
    "    \"\"\"\n",
    "    keep_prob = tf.placeholder(tf.float32, name = 'keep_prob') #dropout (keep probability)\n",
    "    return keep_prob\n",
    "\n",
    "\n",
    "\"\"\"\n",
    "DON'T MODIFY ANYTHING IN THIS CELL THAT IS BELOW THIS LINE\n",
    "\"\"\"\n",
    "tf.reset_default_graph()\n",
    "tests.test_nn_image_inputs(neural_net_image_input)\n",
    "tests.test_nn_label_inputs(neural_net_label_input)\n",
    "tests.test_nn_keep_prob_inputs(neural_net_keep_prob_input)"
   ]
  },
  {
   "cell_type": "markdown",
   "metadata": {},
   "source": [
    "### Convolution and Max Pooling Layer\n",
    "Convolution layers have a lot of success with images. For this code cell, you should implement the function `conv2d_maxpool` to apply convolution then max pooling:\n",
    "* Create the weight and bias using `conv_ksize`, `conv_num_outputs` and the shape of `x_tensor`.\n",
    "* Apply a convolution to `x_tensor` using weight and `conv_strides`.\n",
    " * We recommend you use same padding, but you're welcome to use any padding.\n",
    "* Add bias\n",
    "* Add a nonlinear activation to the convolution.\n",
    "* Apply Max Pooling using `pool_ksize` and `pool_strides`.\n",
    " * We recommend you use same padding, but you're welcome to use any padding.\n",
    "\n",
    "**Note:** You **can't** use [TensorFlow Layers](https://www.tensorflow.org/api_docs/python/tf/layers) or [TensorFlow Layers (contrib)](https://www.tensorflow.org/api_guides/python/contrib.layers) for **this** layer, but you can still use TensorFlow's [Neural Network](https://www.tensorflow.org/api_docs/python/tf/nn) package. You may still use the shortcut option for all the **other** layers."
   ]
  },
  {
   "cell_type": "code",
   "execution_count": 3,
   "metadata": {},
   "outputs": [
    {
     "name": "stdout",
     "output_type": "stream",
     "text": [
      "Tests Passed\n"
     ]
    }
   ],
   "source": [
    "def conv2d_maxpool(x_tensor, conv_num_outputs, conv_ksize, conv_strides, pool_ksize, pool_strides):\n",
    "    \"\"\"\n",
    "    Apply convolution then max pooling to x_tensor\n",
    "    :param x_tensor: TensorFlow Tensor\n",
    "    :param conv_num_outputs: Number of outputs for the convolutional layer\n",
    "    :param conv_ksize: kernal size 2-D Tuple for the convolutional layer\n",
    "    :param conv_strides: Stride 2-D Tuple for convolution\n",
    "    :param pool_ksize: kernal size 2-D Tuple for pool\n",
    "    :param pool_strides: Stride 2-D Tuple for pool\n",
    "    : return: A tensor that represents convolution and max pooling of x_tensor\n",
    "    \"\"\"\n",
    "    #print(x_tensor.get_shape().as_list())\n",
    "    _, filter_height, filter_width, filter_depth = x_tensor.get_shape().as_list() \n",
    "    filter_weights = tf.Variable(tf.truncated_normal([*conv_ksize,  \n",
    "                                                      filter_depth, conv_num_outputs]), name=\"filter_weights\")\n",
    "    biases = tf.Variable(tf.zeros([conv_num_outputs]))\n",
    "    #conv = tf.nn.conv2d(input, filter_weights, strides, padding) + filter_bias\n",
    "    conv = tf.nn.conv2d(x_tensor, filter_weights, strides=[1, *conv_strides, 1], padding='SAME')\n",
    "    #conv_layer = tf.nn.max_pool(conv_layer, ksize=[1, 2, 2, 1],strides=[1, 2, 2, 1], padding='SAME')\n",
    "    conv = tf.nn.bias_add(conv, biases)\n",
    "    max_pool = tf.nn.max_pool(conv, [1, *pool_ksize, 1],[1, *pool_strides, 1], padding='SAME')\n",
    "    return max_pool \n",
    "\n",
    "\n",
    "\"\"\"\n",
    "DON'T MODIFY ANYTHING IN THIS CELL THAT IS BELOW THIS LINE\n",
    "\"\"\"\n",
    "tests.test_con_pool(conv2d_maxpool)"
   ]
  },
  {
   "cell_type": "markdown",
   "metadata": {},
   "source": [
    "### Flatten Layer\n",
    "Implement the `flatten` function to change the dimension of `x_tensor` from a 4-D tensor to a 2-D tensor.  The output should be the shape (*Batch Size*, *Flattened Image Size*). Shortcut option: you can use classes from the [TensorFlow Layers](https://www.tensorflow.org/api_docs/python/tf/layers) or [TensorFlow Layers (contrib)](https://www.tensorflow.org/api_guides/python/contrib.layers) packages for this layer. For more of a challenge, only use other TensorFlow packages."
   ]
  },
  {
   "cell_type": "code",
   "execution_count": null,
   "metadata": {
    "collapsed": true
   },
   "outputs": [],
   "source": []
  },
  {
   "cell_type": "code",
   "execution_count": 4,
   "metadata": {},
   "outputs": [
    {
     "name": "stdout",
     "output_type": "stream",
     "text": [
      "Tests Passed\n"
     ]
    }
   ],
   "source": [
    "def flatten(x_tensor):\n",
    "    \"\"\"\n",
    "    Flatten x_tensor to (Batch Size, Flattened Image Size)\n",
    "    : x_tensor: A tensor of size (Batch Size, ...), where ... are the image dimensions.\n",
    "    : return: A tensor of size (Batch Size, Flattened Image Size).\n",
    "    \"\"\"\n",
    "    x_batch_size, x_height, x_width, x_depth = x_tensor.get_shape().as_list()\n",
    "    x_flatten_tensor = tf.reshape(x_tensor, [-1, x_height * x_width * x_depth])\n",
    "    #print(x_tensor.shape, x_flatten_tensor.shape)\n",
    "    return x_flatten_tensor\n",
    "\n",
    "\n",
    "\"\"\"\n",
    "DON'T MODIFY ANYTHING IN THIS CELL THAT IS BELOW THIS LINE\n",
    "\"\"\"\n",
    "tests.test_flatten(flatten)"
   ]
  },
  {
   "cell_type": "markdown",
   "metadata": {},
   "source": [
    "### Fully-Connected Layer\n",
    "Implement the `fully_conn` function to apply a fully connected layer to `x_tensor` with the shape (*Batch Size*, *num_outputs*). Shortcut option: you can use classes from the [TensorFlow Layers](https://www.tensorflow.org/api_docs/python/tf/layers) or [TensorFlow Layers (contrib)](https://www.tensorflow.org/api_guides/python/contrib.layers) packages for this layer. For more of a challenge, only use other TensorFlow packages."
   ]
  },
  {
   "cell_type": "code",
   "execution_count": 101,
   "metadata": {},
   "outputs": [
    {
     "name": "stdout",
     "output_type": "stream",
     "text": [
      "Tests Passed\n"
     ]
    }
   ],
   "source": [
    "def fully_conn(x_tensor, num_outputs):\n",
    "    \"\"\"\n",
    "    Apply a fully connected layer to x_tensor using weight and bias\n",
    "    : x_tensor: A 2-D tensor where the first dimension is batch size.\n",
    "    : num_outputs: The number of output that the new tensor should be.\n",
    "    : return: A 2-D tensor where the second dimension is num_outputs.\n",
    "    \"\"\"\n",
    "    full_weights = tf.Variable(tf.truncated_normal([x_tensor.shape[1].value, num_outputs], stddev = 0.01))\n",
    "    full_biases = tf.Variable(tf.truncated_normal([num_outputs]))\n",
    "    connected_layer = tf.add(tf.matmul(x_tensor, full_weights), full_biases)\n",
    "    connected_layer = tf.nn.relu(connected_layer)\n",
    "    return connected_layer\n",
    "\n",
    "\n",
    "\"\"\"\n",
    "DON'T MODIFY ANYTHING IN THIS CELL THAT IS BELOW THIS LINE\n",
    "\"\"\"\n",
    "tests.test_fully_conn(fully_conn)"
   ]
  },
  {
   "cell_type": "markdown",
   "metadata": {},
   "source": [
    "### Output Layer\n",
    "Implement the `output` function to apply a fully connected layer to `x_tensor` with the shape (*Batch Size*, *num_outputs*). Shortcut option: you can use classes from the [TensorFlow Layers](https://www.tensorflow.org/api_docs/python/tf/layers) or [TensorFlow Layers (contrib)](https://www.tensorflow.org/api_guides/python/contrib.layers) packages for this layer. For more of a challenge, only use other TensorFlow packages.\n",
    "\n",
    "**Note:** Activation, softmax, or cross entropy should **not** be applied to this."
   ]
  },
  {
   "cell_type": "code",
   "execution_count": 102,
   "metadata": {},
   "outputs": [
    {
     "name": "stdout",
     "output_type": "stream",
     "text": [
      "Tests Passed\n"
     ]
    }
   ],
   "source": [
    "def output(x_tensor, num_outputs):\n",
    "    \"\"\"\n",
    "    Apply a output layer to x_tensor using weight and bias\n",
    "    : x_tensor: A 2-D tensor where the first dimension is batch size.\n",
    "    : num_outputs: The number of output that the new tensor should be.\n",
    "    : return: A 2-D tensor where the second dimension is num_outputs.\n",
    "    \"\"\"\n",
    "    tensor_dims = x_tensor.get_shape().as_list()\n",
    "    \n",
    "    op_weights = tf.Variable(tf.truncated_normal([tensor_dims[1], num_outputs]))\n",
    "    op_bias = tf.Variable(tf.truncated_normal([num_outputs]))\n",
    "    \n",
    "    op_output = tf.add(tf.matmul(x_tensor, op_weights), op_bias)\n",
    "    \n",
    "    return op_output\n",
    "\n",
    "\n",
    "\"\"\"\n",
    "DON'T MODIFY ANYTHING IN THIS CELL THAT IS BELOW THIS LINE\n",
    "\"\"\"\n",
    "tests.test_output(output)"
   ]
  },
  {
   "cell_type": "markdown",
   "metadata": {},
   "source": [
    "### Create Convolutional Model\n",
    "Implement the function `conv_net` to create a convolutional neural network model. The function takes in a batch of images, `x`, and outputs logits.  Use the layers you created above to create this model:\n",
    "\n",
    "* Apply 1, 2, or 3 Convolution and Max Pool layers\n",
    "* Apply a Flatten Layer\n",
    "* Apply 1, 2, or 3 Fully Connected Layers\n",
    "* Apply an Output Layer\n",
    "* Return the output\n",
    "* Apply [TensorFlow's Dropout](https://www.tensorflow.org/api_docs/python/tf/nn/dropout) to one or more layers in the model using `keep_prob`. "
   ]
  },
  {
   "cell_type": "code",
   "execution_count": 153,
   "metadata": {},
   "outputs": [
    {
     "name": "stdout",
     "output_type": "stream",
     "text": [
      "Neural Network Built!\n"
     ]
    }
   ],
   "source": [
    "#### \n",
    "def conv_net(x, keep_prob):\n",
    "    \"\"\"\n",
    "    Create a convolutional neural network model\n",
    "    : x: Placeholder tensor that holds image data.\n",
    "    : keep_prob: Placeholder tensor that hold dropout keep probability.\n",
    "    : return: Tensor that represents logits\n",
    "    \"\"\"\n",
    "    # TODO: Apply 1, 2, or 3 Convolution and Max Pool layers\n",
    "    #    Play around with different number of outputs, kernel size and stride\n",
    "    # Function Definition from Above:\n",
    "    #    conv2d_maxpool(x_tensor, conv_num_outputs, conv_ksize, conv_strides, pool_ksize, pool_strides)\n",
    "    \n",
    "\n",
    "    # TODO: Apply a Flatten Layer\n",
    "    # Function Definition from Above:\n",
    "    #   flatten(x_tensor)\n",
    "    \n",
    "\n",
    "    # TODO: Apply 1, 2, or 3 Fully Connected Layers\n",
    "    #    Play around with different number of outputs\n",
    "    # Function Definition from Above:\n",
    "    #   fully_conn(x_tensor, num_outputs)\n",
    "    \n",
    "    \n",
    "    # TODO: Apply an Output Layer\n",
    "    #    Set this to the number of classes\n",
    "    # Function Definition from Above:\n",
    "    #   output(x_tensor, num_outputs)\n",
    "    \n",
    "    \n",
    "    # TODO: return output\n",
    "    conv_strides = [2, 2]\n",
    "    conv_ksize = [2,2]\n",
    "    pool_strides = [2, 2]\n",
    "    pool_ksize = [2, 2]\n",
    "    #Conv 1\n",
    "    output_tensor = conv2d_maxpool(x, 128, conv_ksize, conv_strides, pool_ksize, pool_strides)\n",
    "    #Conv 2\n",
    "    output_tensor = conv2d_maxpool(output_tensor, 256, conv_ksize, conv_strides, pool_ksize, pool_strides)\n",
    "    #Conv 3\n",
    "    #output_tensor = conv2d_maxpool(output_tensor, 512, conv_ksize, conv_strides, pool_ksize, pool_strides)\n",
    "    #Flatten the output\n",
    "    output_tensor = flatten(output_tensor)\n",
    "    \n",
    "    #Apply multiple fully connected layers\n",
    "    output_tensor = fully_conn(output_tensor, 1200)\n",
    "    output_tensor = fully_conn(output_tensor, 400)\n",
    "    output_tensor = fully_conn(output_tensor, 90)\n",
    "    \n",
    "    \n",
    "    #Retrieve output for this batch\n",
    "    output_tensor = output(output_tensor, 10)\n",
    "    #Drop out for not overfitting\n",
    "    output_tensor = tf.nn.dropout(output_tensor, keep_prob)\n",
    "    \n",
    "    return output_tensor\n",
    "\n",
    "\n",
    "\"\"\"\n",
    "DON'T MODIFY ANYTHING IN THIS CELL THAT IS BELOW THIS LINE\n",
    "\"\"\"\n",
    "\n",
    "##############################\n",
    "## Build the Neural Network ##\n",
    "##############################\n",
    "\n",
    "# Remove previous weights, bias, inputs, etc..\n",
    "tf.reset_default_graph()\n",
    "\n",
    "# Inputs\n",
    "x = neural_net_image_input((32, 32, 3))\n",
    "y = neural_net_label_input(10)\n",
    "keep_prob = neural_net_keep_prob_input()\n",
    "\n",
    "# Model\n",
    "logits = conv_net(x, keep_prob)\n",
    "\n",
    "# Name logits Tensor, so that is can be loaded from disk after training\n",
    "logits = tf.identity(logits, name='logits')\n",
    "\n",
    "# Loss and Optimizer\n",
    "cost = tf.reduce_mean(tf.nn.softmax_cross_entropy_with_logits(logits=logits, labels=y))\n",
    "optimizer = tf.train.AdamOptimizer().minimize(cost)\n",
    "\n",
    "# Accuracy\n",
    "correct_pred = tf.equal(tf.argmax(logits, 1), tf.argmax(y, 1))\n",
    "accuracy = tf.reduce_mean(tf.cast(correct_pred, tf.float32), name='accuracy')\n",
    "\n",
    "tests.test_conv_net(conv_net)"
   ]
  },
  {
   "cell_type": "markdown",
   "metadata": {},
   "source": [
    "## Train the Neural Network\n",
    "### Single Optimization\n",
    "Implement the function `train_neural_network` to do a single optimization.  The optimization should use `optimizer` to optimize in `session` with a `feed_dict` of the following:\n",
    "* `x` for image input\n",
    "* `y` for labels\n",
    "* `keep_prob` for keep probability for dropout\n",
    "\n",
    "This function will be called for each batch, so `tf.global_variables_initializer()` has already been called.\n",
    "\n",
    "Note: Nothing needs to be returned. This function is only optimizing the neural network."
   ]
  },
  {
   "cell_type": "code",
   "execution_count": 154,
   "metadata": {},
   "outputs": [
    {
     "name": "stdout",
     "output_type": "stream",
     "text": [
      "Tests Passed\n"
     ]
    }
   ],
   "source": [
    "def train_neural_network(session, optimizer, keep_probability, feature_batch, label_batch):\n",
    "    \"\"\"\n",
    "    Optimize the session on a batch of images and labels\n",
    "    : session: Current TensorFlow session\n",
    "    : optimizer: TensorFlow optimizer function\n",
    "    : keep_probability: keep probability\n",
    "    : feature_batch: Batch of Numpy image data\n",
    "    : label_batch: Batch of Numpy label data\n",
    "    \"\"\"\n",
    "    \n",
    "    session.run(optimizer, feed_dict={x: feature_batch, y: label_batch, keep_prob: keep_probability})\n",
    "\n",
    "\n",
    "\"\"\"\n",
    "DON'T MODIFY ANYTHING IN THIS CELL THAT IS BELOW THIS LINE\n",
    "\"\"\"\n",
    "tests.test_train_nn(train_neural_network)"
   ]
  },
  {
   "cell_type": "markdown",
   "metadata": {},
   "source": [
    "### Show Stats\n",
    "Implement the function `print_stats` to print loss and validation accuracy.  Use the global variables `valid_features` and `valid_labels` to calculate validation accuracy.  Use a keep probability of `1.0` to calculate the loss and validation accuracy."
   ]
  },
  {
   "cell_type": "code",
   "execution_count": 155,
   "metadata": {
    "collapsed": true
   },
   "outputs": [],
   "source": [
    "def print_stats(session, feature_batch, label_batch, cost, accuracy):\n",
    "    \"\"\"\n",
    "    Print information about loss and validation accuracy\n",
    "    : session: Current TensorFlow session\n",
    "    : feature_batch: Batch of Numpy image data\n",
    "    : label_batch: Batch of Numpy label data\n",
    "    : cost: TensorFlow cost function\n",
    "    : accuracy: TensorFlow accuracy function\n",
    "    \"\"\"\n",
    "    #print(len(valid_features))\n",
    "    loss = session.run(cost,\n",
    "                   feed_dict={\n",
    "                       x: feature_batch,\n",
    "                       y: label_batch,\n",
    "                       keep_prob: 1.0})\n",
    "\n",
    "    acc = session.run(accuracy,\n",
    "                        feed_dict={\n",
    "                            x: valid_features,\n",
    "                            y: valid_labels,\n",
    "                            keep_prob: 1.0})\n",
    "    \n",
    "    print('Loss: {:>10.4f} Accuracy: {:.6f}'.format(loss, acc))\n",
    "    "
   ]
  },
  {
   "cell_type": "markdown",
   "metadata": {},
   "source": [
    "### Hyperparameters\n",
    "Tune the following parameters:\n",
    "* Set `epochs` to the number of iterations until the network stops learning or start overfitting\n",
    "* Set `batch_size` to the highest number that your machine has memory for.  Most people set them to common sizes of memory:\n",
    " * 64\n",
    " * 128\n",
    " * 256\n",
    " * ...\n",
    "* Set `keep_probability` to the probability of keeping a node using dropout"
   ]
  },
  {
   "cell_type": "code",
   "execution_count": 158,
   "metadata": {
    "collapsed": true
   },
   "outputs": [],
   "source": [
    "# TODO: Tune Parameters\n",
    "epochs = 50\n",
    "batch_size = 512\n",
    "keep_probability = 0.7"
   ]
  },
  {
   "cell_type": "markdown",
   "metadata": {},
   "source": [
    "### Train on a Single CIFAR-10 Batch\n",
    "Instead of training the neural network on all the CIFAR-10 batches of data, let's use a single batch. This should save time while you iterate on the model to get a better accuracy.  Once the final validation accuracy is 50% or greater, run the model on all the data in the next section."
   ]
  },
  {
   "cell_type": "code",
   "execution_count": 159,
   "metadata": {
    "scrolled": true
   },
   "outputs": [
    {
     "name": "stdout",
     "output_type": "stream",
     "text": [
      "Checking the Training on a Single Batch...\n",
      "Epoch  1, CIFAR-10 Batch 1:  Loss:     2.7870 Accuracy: 0.099400\n",
      "Epoch  2, CIFAR-10 Batch 1:  Loss:     2.2343 Accuracy: 0.138200\n",
      "Epoch  3, CIFAR-10 Batch 1:  Loss:     2.0408 Accuracy: 0.256800\n",
      "Epoch  4, CIFAR-10 Batch 1:  Loss:     1.9388 Accuracy: 0.316600\n",
      "Epoch  5, CIFAR-10 Batch 1:  Loss:     1.8485 Accuracy: 0.347600\n",
      "Epoch  6, CIFAR-10 Batch 1:  Loss:     1.7667 Accuracy: 0.374200\n",
      "Epoch  7, CIFAR-10 Batch 1:  Loss:     1.6997 Accuracy: 0.387000\n",
      "Epoch  8, CIFAR-10 Batch 1:  Loss:     1.6544 Accuracy: 0.411400\n",
      "Epoch  9, CIFAR-10 Batch 1:  Loss:     1.5939 Accuracy: 0.410400\n",
      "Epoch 10, CIFAR-10 Batch 1:  Loss:     1.5743 Accuracy: 0.413600\n",
      "Epoch 11, CIFAR-10 Batch 1:  Loss:     1.5072 Accuracy: 0.419800\n",
      "Epoch 12, CIFAR-10 Batch 1:  Loss:     1.5078 Accuracy: 0.428400\n",
      "Epoch 13, CIFAR-10 Batch 1:  Loss:     1.4651 Accuracy: 0.448400\n",
      "Epoch 14, CIFAR-10 Batch 1:  Loss:     1.4493 Accuracy: 0.437400\n",
      "Epoch 15, CIFAR-10 Batch 1:  Loss:     1.4046 Accuracy: 0.436800\n",
      "Epoch 16, CIFAR-10 Batch 1:  Loss:     1.4067 Accuracy: 0.428800\n",
      "Epoch 17, CIFAR-10 Batch 1:  Loss:     1.3398 Accuracy: 0.446400\n",
      "Epoch 18, CIFAR-10 Batch 1:  Loss:     1.2988 Accuracy: 0.464800\n",
      "Epoch 19, CIFAR-10 Batch 1:  Loss:     1.2791 Accuracy: 0.465800\n",
      "Epoch 20, CIFAR-10 Batch 1:  Loss:     1.2152 Accuracy: 0.477800\n",
      "Epoch 21, CIFAR-10 Batch 1:  Loss:     1.2162 Accuracy: 0.457200\n",
      "Epoch 22, CIFAR-10 Batch 1:  Loss:     1.2040 Accuracy: 0.466200\n",
      "Epoch 23, CIFAR-10 Batch 1:  Loss:     1.1507 Accuracy: 0.463800\n",
      "Epoch 24, CIFAR-10 Batch 1:  Loss:     1.0938 Accuracy: 0.477600\n",
      "Epoch 25, CIFAR-10 Batch 1:  Loss:     1.0819 Accuracy: 0.483400\n",
      "Epoch 26, CIFAR-10 Batch 1:  Loss:     1.1191 Accuracy: 0.464000\n",
      "Epoch 27, CIFAR-10 Batch 1:  Loss:     1.0479 Accuracy: 0.475400\n",
      "Epoch 28, CIFAR-10 Batch 1:  Loss:     0.9663 Accuracy: 0.492400\n",
      "Epoch 29, CIFAR-10 Batch 1:  Loss:     0.9296 Accuracy: 0.482400\n",
      "Epoch 30, CIFAR-10 Batch 1:  Loss:     0.9121 Accuracy: 0.488000\n",
      "Epoch 31, CIFAR-10 Batch 1:  Loss:     0.8446 Accuracy: 0.497600\n",
      "Epoch 32, CIFAR-10 Batch 1:  Loss:     0.8606 Accuracy: 0.491600\n",
      "Epoch 33, CIFAR-10 Batch 1:  Loss:     0.8276 Accuracy: 0.482800\n",
      "Epoch 34, CIFAR-10 Batch 1:  Loss:     0.7805 Accuracy: 0.491200\n",
      "Epoch 35, CIFAR-10 Batch 1:  Loss:     0.7964 Accuracy: 0.480600\n",
      "Epoch 36, CIFAR-10 Batch 1:  Loss:     0.8513 Accuracy: 0.462800\n",
      "Epoch 37, CIFAR-10 Batch 1:  Loss:     0.7005 Accuracy: 0.489800\n",
      "Epoch 38, CIFAR-10 Batch 1:  Loss:     0.6974 Accuracy: 0.478800\n",
      "Epoch 39, CIFAR-10 Batch 1:  Loss:     0.6814 Accuracy: 0.471400\n",
      "Epoch 40, CIFAR-10 Batch 1:  Loss:     0.6410 Accuracy: 0.494400\n",
      "Epoch 41, CIFAR-10 Batch 1:  Loss:     0.6372 Accuracy: 0.473400\n",
      "Epoch 42, CIFAR-10 Batch 1:  Loss:     0.5968 Accuracy: 0.475600\n",
      "Epoch 43, CIFAR-10 Batch 1:  Loss:     0.6307 Accuracy: 0.478800\n",
      "Epoch 44, CIFAR-10 Batch 1:  Loss:     0.5559 Accuracy: 0.487000\n",
      "Epoch 45, CIFAR-10 Batch 1:  Loss:     0.6167 Accuracy: 0.458600\n",
      "Epoch 46, CIFAR-10 Batch 1:  Loss:     0.5225 Accuracy: 0.480000\n",
      "Epoch 47, CIFAR-10 Batch 1:  Loss:     0.5070 Accuracy: 0.482400\n",
      "Epoch 48, CIFAR-10 Batch 1:  Loss:     0.5037 Accuracy: 0.488000\n",
      "Epoch 49, CIFAR-10 Batch 1:  Loss:     0.5149 Accuracy: 0.472600\n",
      "Epoch 50, CIFAR-10 Batch 1:  Loss:     0.4333 Accuracy: 0.487000\n"
     ]
    }
   ],
   "source": [
    "\"\"\"\n",
    "DON'T MODIFY ANYTHING IN THIS CELL\n",
    "\"\"\"\n",
    "print('Checking the Training on a Single Batch...')\n",
    "with tf.Session() as sess:\n",
    "    # Initializing the variables\n",
    "    sess.run(tf.global_variables_initializer())\n",
    "    \n",
    "    # Training cycle\n",
    "    for epoch in range(epochs):\n",
    "        batch_i = 1\n",
    "        for batch_features, batch_labels in helper.load_preprocess_training_batch(batch_i, batch_size):\n",
    "            train_neural_network(sess, optimizer, keep_probability, batch_features, batch_labels)\n",
    "        print('Epoch {:>2}, CIFAR-10 Batch {}:  '.format(epoch + 1, batch_i), end='')\n",
    "        print_stats(sess, batch_features, batch_labels, cost, accuracy)"
   ]
  },
  {
   "cell_type": "markdown",
   "metadata": {},
   "source": [
    "### Fully Train the Model\n",
    "Now that you got a good accuracy with a single CIFAR-10 batch, try it with all five batches."
   ]
  },
  {
   "cell_type": "code",
   "execution_count": 160,
   "metadata": {},
   "outputs": [
    {
     "name": "stdout",
     "output_type": "stream",
     "text": [
      "Training...\n",
      "Epoch  1, CIFAR-10 Batch 1:  Loss:     2.3467 Accuracy: 0.139600\n",
      "Epoch  1, CIFAR-10 Batch 2:  Loss:     2.0643 Accuracy: 0.241000\n",
      "Epoch  1, CIFAR-10 Batch 3:  Loss:     1.9952 Accuracy: 0.272200\n",
      "Epoch  1, CIFAR-10 Batch 4:  Loss:     1.8563 Accuracy: 0.328600\n",
      "Epoch  1, CIFAR-10 Batch 5:  Loss:     1.8534 Accuracy: 0.334000\n",
      "Epoch  2, CIFAR-10 Batch 1:  Loss:     1.8282 Accuracy: 0.345400\n",
      "Epoch  2, CIFAR-10 Batch 2:  Loss:     1.7549 Accuracy: 0.369400\n",
      "Epoch  2, CIFAR-10 Batch 3:  Loss:     1.7518 Accuracy: 0.366600\n",
      "Epoch  2, CIFAR-10 Batch 4:  Loss:     1.6815 Accuracy: 0.383600\n",
      "Epoch  2, CIFAR-10 Batch 5:  Loss:     1.7265 Accuracy: 0.390400\n",
      "Epoch  3, CIFAR-10 Batch 1:  Loss:     1.7435 Accuracy: 0.375800\n",
      "Epoch  3, CIFAR-10 Batch 2:  Loss:     1.6273 Accuracy: 0.418600\n",
      "Epoch  3, CIFAR-10 Batch 3:  Loss:     1.5642 Accuracy: 0.419200\n",
      "Epoch  3, CIFAR-10 Batch 4:  Loss:     1.5323 Accuracy: 0.422400\n",
      "Epoch  3, CIFAR-10 Batch 5:  Loss:     1.6125 Accuracy: 0.428000\n",
      "Epoch  4, CIFAR-10 Batch 1:  Loss:     1.6343 Accuracy: 0.426200\n",
      "Epoch  4, CIFAR-10 Batch 2:  Loss:     1.5356 Accuracy: 0.447800\n",
      "Epoch  4, CIFAR-10 Batch 3:  Loss:     1.4535 Accuracy: 0.449800\n",
      "Epoch  4, CIFAR-10 Batch 4:  Loss:     1.4591 Accuracy: 0.449800\n",
      "Epoch  4, CIFAR-10 Batch 5:  Loss:     1.5075 Accuracy: 0.456600\n",
      "Epoch  5, CIFAR-10 Batch 1:  Loss:     1.5393 Accuracy: 0.452000\n",
      "Epoch  5, CIFAR-10 Batch 2:  Loss:     1.4490 Accuracy: 0.452600\n",
      "Epoch  5, CIFAR-10 Batch 3:  Loss:     1.3689 Accuracy: 0.472800\n",
      "Epoch  5, CIFAR-10 Batch 4:  Loss:     1.4216 Accuracy: 0.455800\n",
      "Epoch  5, CIFAR-10 Batch 5:  Loss:     1.4683 Accuracy: 0.464800\n",
      "Epoch  6, CIFAR-10 Batch 1:  Loss:     1.5084 Accuracy: 0.446400\n",
      "Epoch  6, CIFAR-10 Batch 2:  Loss:     1.4190 Accuracy: 0.462200\n",
      "Epoch  6, CIFAR-10 Batch 3:  Loss:     1.3061 Accuracy: 0.486000\n",
      "Epoch  6, CIFAR-10 Batch 4:  Loss:     1.3437 Accuracy: 0.482000\n",
      "Epoch  6, CIFAR-10 Batch 5:  Loss:     1.3838 Accuracy: 0.493800\n",
      "Epoch  7, CIFAR-10 Batch 1:  Loss:     1.4156 Accuracy: 0.492000\n",
      "Epoch  7, CIFAR-10 Batch 2:  Loss:     1.3297 Accuracy: 0.479000\n",
      "Epoch  7, CIFAR-10 Batch 3:  Loss:     1.2539 Accuracy: 0.491000\n",
      "Epoch  7, CIFAR-10 Batch 4:  Loss:     1.3033 Accuracy: 0.492600\n",
      "Epoch  7, CIFAR-10 Batch 5:  Loss:     1.3222 Accuracy: 0.493000\n",
      "Epoch  8, CIFAR-10 Batch 1:  Loss:     1.3801 Accuracy: 0.497800\n",
      "Epoch  8, CIFAR-10 Batch 2:  Loss:     1.3363 Accuracy: 0.486200\n",
      "Epoch  8, CIFAR-10 Batch 3:  Loss:     1.2429 Accuracy: 0.500800\n",
      "Epoch  8, CIFAR-10 Batch 4:  Loss:     1.2703 Accuracy: 0.513600\n",
      "Epoch  8, CIFAR-10 Batch 5:  Loss:     1.2771 Accuracy: 0.513400\n",
      "Epoch  9, CIFAR-10 Batch 1:  Loss:     1.3521 Accuracy: 0.500000\n",
      "Epoch  9, CIFAR-10 Batch 2:  Loss:     1.2835 Accuracy: 0.509400\n",
      "Epoch  9, CIFAR-10 Batch 3:  Loss:     1.1979 Accuracy: 0.519000\n",
      "Epoch  9, CIFAR-10 Batch 4:  Loss:     1.2306 Accuracy: 0.517000\n",
      "Epoch  9, CIFAR-10 Batch 5:  Loss:     1.2681 Accuracy: 0.506200\n",
      "Epoch 10, CIFAR-10 Batch 1:  Loss:     1.3273 Accuracy: 0.505400\n",
      "Epoch 10, CIFAR-10 Batch 2:  Loss:     1.2593 Accuracy: 0.494200\n",
      "Epoch 10, CIFAR-10 Batch 3:  Loss:     1.1757 Accuracy: 0.528800\n",
      "Epoch 10, CIFAR-10 Batch 4:  Loss:     1.1691 Accuracy: 0.534400\n",
      "Epoch 10, CIFAR-10 Batch 5:  Loss:     1.1855 Accuracy: 0.519800\n",
      "Epoch 11, CIFAR-10 Batch 1:  Loss:     1.2990 Accuracy: 0.503000\n",
      "Epoch 11, CIFAR-10 Batch 2:  Loss:     1.2619 Accuracy: 0.510400\n",
      "Epoch 11, CIFAR-10 Batch 3:  Loss:     1.1703 Accuracy: 0.512000\n",
      "Epoch 11, CIFAR-10 Batch 4:  Loss:     1.1360 Accuracy: 0.535200\n",
      "Epoch 11, CIFAR-10 Batch 5:  Loss:     1.1532 Accuracy: 0.531600\n",
      "Epoch 12, CIFAR-10 Batch 1:  Loss:     1.2861 Accuracy: 0.504000\n",
      "Epoch 12, CIFAR-10 Batch 2:  Loss:     1.2524 Accuracy: 0.492600\n",
      "Epoch 12, CIFAR-10 Batch 3:  Loss:     1.1482 Accuracy: 0.523600\n",
      "Epoch 12, CIFAR-10 Batch 4:  Loss:     1.1006 Accuracy: 0.539200\n",
      "Epoch 12, CIFAR-10 Batch 5:  Loss:     1.1085 Accuracy: 0.541800\n",
      "Epoch 13, CIFAR-10 Batch 1:  Loss:     1.2184 Accuracy: 0.524000\n",
      "Epoch 13, CIFAR-10 Batch 2:  Loss:     1.1625 Accuracy: 0.516400\n",
      "Epoch 13, CIFAR-10 Batch 3:  Loss:     1.0940 Accuracy: 0.538200\n",
      "Epoch 13, CIFAR-10 Batch 4:  Loss:     1.0665 Accuracy: 0.547200\n",
      "Epoch 13, CIFAR-10 Batch 5:  Loss:     1.1009 Accuracy: 0.547600\n",
      "Epoch 14, CIFAR-10 Batch 1:  Loss:     1.2066 Accuracy: 0.521200\n",
      "Epoch 14, CIFAR-10 Batch 2:  Loss:     1.1485 Accuracy: 0.518400\n",
      "Epoch 14, CIFAR-10 Batch 3:  Loss:     1.0746 Accuracy: 0.544200\n",
      "Epoch 14, CIFAR-10 Batch 4:  Loss:     1.0496 Accuracy: 0.541000\n",
      "Epoch 14, CIFAR-10 Batch 5:  Loss:     1.0688 Accuracy: 0.553200\n",
      "Epoch 15, CIFAR-10 Batch 1:  Loss:     1.1635 Accuracy: 0.537800\n",
      "Epoch 15, CIFAR-10 Batch 2:  Loss:     1.0881 Accuracy: 0.533600\n",
      "Epoch 15, CIFAR-10 Batch 3:  Loss:     1.0520 Accuracy: 0.546400\n",
      "Epoch 15, CIFAR-10 Batch 4:  Loss:     0.9931 Accuracy: 0.550800\n",
      "Epoch 15, CIFAR-10 Batch 5:  Loss:     1.0327 Accuracy: 0.555000\n",
      "Epoch 16, CIFAR-10 Batch 1:  Loss:     1.1221 Accuracy: 0.537000\n",
      "Epoch 16, CIFAR-10 Batch 2:  Loss:     1.0602 Accuracy: 0.544600\n",
      "Epoch 16, CIFAR-10 Batch 3:  Loss:     1.0722 Accuracy: 0.548800\n",
      "Epoch 16, CIFAR-10 Batch 4:  Loss:     0.9639 Accuracy: 0.556800\n",
      "Epoch 16, CIFAR-10 Batch 5:  Loss:     1.0076 Accuracy: 0.553600\n",
      "Epoch 17, CIFAR-10 Batch 1:  Loss:     1.0945 Accuracy: 0.548800\n",
      "Epoch 17, CIFAR-10 Batch 2:  Loss:     1.0450 Accuracy: 0.541800\n",
      "Epoch 17, CIFAR-10 Batch 3:  Loss:     1.0419 Accuracy: 0.548200\n",
      "Epoch 17, CIFAR-10 Batch 4:  Loss:     0.9512 Accuracy: 0.556600\n",
      "Epoch 17, CIFAR-10 Batch 5:  Loss:     0.9750 Accuracy: 0.559400\n",
      "Epoch 18, CIFAR-10 Batch 1:  Loss:     1.0696 Accuracy: 0.558000\n",
      "Epoch 18, CIFAR-10 Batch 2:  Loss:     0.9685 Accuracy: 0.556800\n",
      "Epoch 18, CIFAR-10 Batch 3:  Loss:     0.9839 Accuracy: 0.558000\n",
      "Epoch 18, CIFAR-10 Batch 4:  Loss:     0.9194 Accuracy: 0.559800\n",
      "Epoch 18, CIFAR-10 Batch 5:  Loss:     0.9516 Accuracy: 0.567200\n",
      "Epoch 19, CIFAR-10 Batch 1:  Loss:     1.0368 Accuracy: 0.561600\n",
      "Epoch 19, CIFAR-10 Batch 2:  Loss:     0.9434 Accuracy: 0.564600\n",
      "Epoch 19, CIFAR-10 Batch 3:  Loss:     0.9890 Accuracy: 0.558600\n",
      "Epoch 19, CIFAR-10 Batch 4:  Loss:     0.9241 Accuracy: 0.554000\n",
      "Epoch 19, CIFAR-10 Batch 5:  Loss:     0.9255 Accuracy: 0.569200\n",
      "Epoch 20, CIFAR-10 Batch 1:  Loss:     1.0097 Accuracy: 0.560000\n",
      "Epoch 20, CIFAR-10 Batch 2:  Loss:     0.9503 Accuracy: 0.567200\n",
      "Epoch 20, CIFAR-10 Batch 3:  Loss:     0.9757 Accuracy: 0.560400\n",
      "Epoch 20, CIFAR-10 Batch 4:  Loss:     0.8747 Accuracy: 0.560200\n",
      "Epoch 20, CIFAR-10 Batch 5:  Loss:     0.9222 Accuracy: 0.566000\n",
      "Epoch 21, CIFAR-10 Batch 1:  Loss:     0.9717 Accuracy: 0.562600\n",
      "Epoch 21, CIFAR-10 Batch 2:  Loss:     0.8856 Accuracy: 0.572000\n",
      "Epoch 21, CIFAR-10 Batch 3:  Loss:     0.9096 Accuracy: 0.572200\n",
      "Epoch 21, CIFAR-10 Batch 4:  Loss:     0.8208 Accuracy: 0.573400\n",
      "Epoch 21, CIFAR-10 Batch 5:  Loss:     0.8748 Accuracy: 0.573400\n",
      "Epoch 22, CIFAR-10 Batch 1:  Loss:     0.9637 Accuracy: 0.558200\n",
      "Epoch 22, CIFAR-10 Batch 2:  Loss:     0.8642 Accuracy: 0.570000\n",
      "Epoch 22, CIFAR-10 Batch 3:  Loss:     0.8796 Accuracy: 0.558600\n",
      "Epoch 22, CIFAR-10 Batch 4:  Loss:     0.7778 Accuracy: 0.575600\n",
      "Epoch 22, CIFAR-10 Batch 5:  Loss:     0.8768 Accuracy: 0.569200\n",
      "Epoch 23, CIFAR-10 Batch 1:  Loss:     0.9181 Accuracy: 0.555600\n",
      "Epoch 23, CIFAR-10 Batch 2:  Loss:     0.8350 Accuracy: 0.573600\n",
      "Epoch 23, CIFAR-10 Batch 3:  Loss:     0.8706 Accuracy: 0.565400\n",
      "Epoch 23, CIFAR-10 Batch 4:  Loss:     0.7610 Accuracy: 0.565600\n",
      "Epoch 23, CIFAR-10 Batch 5:  Loss:     0.8403 Accuracy: 0.563600\n",
      "Epoch 24, CIFAR-10 Batch 1:  Loss:     0.8932 Accuracy: 0.563000\n",
      "Epoch 24, CIFAR-10 Batch 2:  Loss:     0.8077 Accuracy: 0.572800\n",
      "Epoch 24, CIFAR-10 Batch 3:  Loss:     0.8847 Accuracy: 0.552000\n",
      "Epoch 24, CIFAR-10 Batch 4:  Loss:     0.7491 Accuracy: 0.565400\n",
      "Epoch 24, CIFAR-10 Batch 5:  Loss:     0.8141 Accuracy: 0.562200\n",
      "Epoch 25, CIFAR-10 Batch 1:  Loss:     0.8476 Accuracy: 0.565000\n",
      "Epoch 25, CIFAR-10 Batch 2:  Loss:     0.7748 Accuracy: 0.569600\n",
      "Epoch 25, CIFAR-10 Batch 3:  Loss:     0.8407 Accuracy: 0.557800\n",
      "Epoch 25, CIFAR-10 Batch 4:  Loss:     0.6990 Accuracy: 0.571000\n",
      "Epoch 25, CIFAR-10 Batch 5:  Loss:     0.7988 Accuracy: 0.566600\n",
      "Epoch 26, CIFAR-10 Batch 1:  Loss:     0.8127 Accuracy: 0.566200\n"
     ]
    },
    {
     "name": "stdout",
     "output_type": "stream",
     "text": [
      "Epoch 26, CIFAR-10 Batch 2:  Loss:     0.7815 Accuracy: 0.568400\n",
      "Epoch 26, CIFAR-10 Batch 3:  Loss:     0.7902 Accuracy: 0.551200\n",
      "Epoch 26, CIFAR-10 Batch 4:  Loss:     0.6833 Accuracy: 0.572200\n",
      "Epoch 26, CIFAR-10 Batch 5:  Loss:     0.7616 Accuracy: 0.567000\n",
      "Epoch 27, CIFAR-10 Batch 1:  Loss:     0.8151 Accuracy: 0.567000\n",
      "Epoch 27, CIFAR-10 Batch 2:  Loss:     0.7397 Accuracy: 0.572400\n",
      "Epoch 27, CIFAR-10 Batch 3:  Loss:     0.7452 Accuracy: 0.570600\n",
      "Epoch 27, CIFAR-10 Batch 4:  Loss:     0.6552 Accuracy: 0.564600\n",
      "Epoch 27, CIFAR-10 Batch 5:  Loss:     0.7393 Accuracy: 0.565000\n",
      "Epoch 28, CIFAR-10 Batch 1:  Loss:     0.7715 Accuracy: 0.573800\n",
      "Epoch 28, CIFAR-10 Batch 2:  Loss:     0.7164 Accuracy: 0.574000\n",
      "Epoch 28, CIFAR-10 Batch 3:  Loss:     0.7147 Accuracy: 0.575600\n",
      "Epoch 28, CIFAR-10 Batch 4:  Loss:     0.6320 Accuracy: 0.566400\n",
      "Epoch 28, CIFAR-10 Batch 5:  Loss:     0.6992 Accuracy: 0.572400\n",
      "Epoch 29, CIFAR-10 Batch 1:  Loss:     0.7453 Accuracy: 0.571000\n",
      "Epoch 29, CIFAR-10 Batch 2:  Loss:     0.7056 Accuracy: 0.567600\n",
      "Epoch 29, CIFAR-10 Batch 3:  Loss:     0.7301 Accuracy: 0.566600\n",
      "Epoch 29, CIFAR-10 Batch 4:  Loss:     0.6218 Accuracy: 0.571400\n",
      "Epoch 29, CIFAR-10 Batch 5:  Loss:     0.7020 Accuracy: 0.564800\n",
      "Epoch 30, CIFAR-10 Batch 1:  Loss:     0.7237 Accuracy: 0.571400\n",
      "Epoch 30, CIFAR-10 Batch 2:  Loss:     0.7266 Accuracy: 0.557200\n",
      "Epoch 30, CIFAR-10 Batch 3:  Loss:     0.6751 Accuracy: 0.573800\n",
      "Epoch 30, CIFAR-10 Batch 4:  Loss:     0.5969 Accuracy: 0.565400\n",
      "Epoch 30, CIFAR-10 Batch 5:  Loss:     0.6870 Accuracy: 0.567800\n",
      "Epoch 31, CIFAR-10 Batch 1:  Loss:     0.6961 Accuracy: 0.566400\n",
      "Epoch 31, CIFAR-10 Batch 2:  Loss:     0.7026 Accuracy: 0.557400\n",
      "Epoch 31, CIFAR-10 Batch 3:  Loss:     0.6328 Accuracy: 0.578200\n",
      "Epoch 31, CIFAR-10 Batch 4:  Loss:     0.5577 Accuracy: 0.569400\n",
      "Epoch 31, CIFAR-10 Batch 5:  Loss:     0.6189 Accuracy: 0.571200\n",
      "Epoch 32, CIFAR-10 Batch 1:  Loss:     0.6595 Accuracy: 0.563400\n",
      "Epoch 32, CIFAR-10 Batch 2:  Loss:     0.6250 Accuracy: 0.551200\n",
      "Epoch 32, CIFAR-10 Batch 3:  Loss:     0.6043 Accuracy: 0.570800\n",
      "Epoch 32, CIFAR-10 Batch 4:  Loss:     0.5691 Accuracy: 0.567000\n",
      "Epoch 32, CIFAR-10 Batch 5:  Loss:     0.5976 Accuracy: 0.572200\n",
      "Epoch 33, CIFAR-10 Batch 1:  Loss:     0.6863 Accuracy: 0.551800\n",
      "Epoch 33, CIFAR-10 Batch 2:  Loss:     0.6085 Accuracy: 0.567000\n",
      "Epoch 33, CIFAR-10 Batch 3:  Loss:     0.6107 Accuracy: 0.562000\n",
      "Epoch 33, CIFAR-10 Batch 4:  Loss:     0.5357 Accuracy: 0.569800\n",
      "Epoch 33, CIFAR-10 Batch 5:  Loss:     0.5615 Accuracy: 0.575000\n",
      "Epoch 34, CIFAR-10 Batch 1:  Loss:     0.6340 Accuracy: 0.555800\n",
      "Epoch 34, CIFAR-10 Batch 2:  Loss:     0.6323 Accuracy: 0.559800\n",
      "Epoch 34, CIFAR-10 Batch 3:  Loss:     0.5833 Accuracy: 0.566800\n",
      "Epoch 34, CIFAR-10 Batch 4:  Loss:     0.5056 Accuracy: 0.569400\n",
      "Epoch 34, CIFAR-10 Batch 5:  Loss:     0.5744 Accuracy: 0.572000\n",
      "Epoch 35, CIFAR-10 Batch 1:  Loss:     0.6300 Accuracy: 0.564400\n",
      "Epoch 35, CIFAR-10 Batch 2:  Loss:     0.5601 Accuracy: 0.564000\n",
      "Epoch 35, CIFAR-10 Batch 3:  Loss:     0.5381 Accuracy: 0.568200\n",
      "Epoch 35, CIFAR-10 Batch 4:  Loss:     0.4848 Accuracy: 0.571600\n",
      "Epoch 35, CIFAR-10 Batch 5:  Loss:     0.5112 Accuracy: 0.576200\n",
      "Epoch 36, CIFAR-10 Batch 1:  Loss:     0.5459 Accuracy: 0.564000\n",
      "Epoch 36, CIFAR-10 Batch 2:  Loss:     0.5291 Accuracy: 0.570000\n",
      "Epoch 36, CIFAR-10 Batch 3:  Loss:     0.4945 Accuracy: 0.569000\n",
      "Epoch 36, CIFAR-10 Batch 4:  Loss:     0.4629 Accuracy: 0.564600\n",
      "Epoch 36, CIFAR-10 Batch 5:  Loss:     0.4945 Accuracy: 0.563600\n",
      "Epoch 37, CIFAR-10 Batch 1:  Loss:     0.5652 Accuracy: 0.551600\n",
      "Epoch 37, CIFAR-10 Batch 2:  Loss:     0.5478 Accuracy: 0.564400\n",
      "Epoch 37, CIFAR-10 Batch 3:  Loss:     0.4415 Accuracy: 0.573600\n",
      "Epoch 37, CIFAR-10 Batch 4:  Loss:     0.4338 Accuracy: 0.561400\n",
      "Epoch 37, CIFAR-10 Batch 5:  Loss:     0.4721 Accuracy: 0.570800\n",
      "Epoch 38, CIFAR-10 Batch 1:  Loss:     0.4827 Accuracy: 0.571800\n",
      "Epoch 38, CIFAR-10 Batch 2:  Loss:     0.4792 Accuracy: 0.562000\n",
      "Epoch 38, CIFAR-10 Batch 3:  Loss:     0.4559 Accuracy: 0.564000\n",
      "Epoch 38, CIFAR-10 Batch 4:  Loss:     0.3978 Accuracy: 0.569800\n",
      "Epoch 38, CIFAR-10 Batch 5:  Loss:     0.4509 Accuracy: 0.564600\n",
      "Epoch 39, CIFAR-10 Batch 1:  Loss:     0.4624 Accuracy: 0.569800\n",
      "Epoch 39, CIFAR-10 Batch 2:  Loss:     0.4771 Accuracy: 0.565600\n",
      "Epoch 39, CIFAR-10 Batch 3:  Loss:     0.4330 Accuracy: 0.569800\n",
      "Epoch 39, CIFAR-10 Batch 4:  Loss:     0.3659 Accuracy: 0.566200\n",
      "Epoch 39, CIFAR-10 Batch 5:  Loss:     0.4354 Accuracy: 0.570600\n",
      "Epoch 40, CIFAR-10 Batch 1:  Loss:     0.5109 Accuracy: 0.556800\n",
      "Epoch 40, CIFAR-10 Batch 2:  Loss:     0.5084 Accuracy: 0.560800\n",
      "Epoch 40, CIFAR-10 Batch 3:  Loss:     0.4478 Accuracy: 0.556800\n",
      "Epoch 40, CIFAR-10 Batch 4:  Loss:     0.3637 Accuracy: 0.564400\n",
      "Epoch 40, CIFAR-10 Batch 5:  Loss:     0.3876 Accuracy: 0.560800\n",
      "Epoch 41, CIFAR-10 Batch 1:  Loss:     0.4476 Accuracy: 0.555600\n",
      "Epoch 41, CIFAR-10 Batch 2:  Loss:     0.5083 Accuracy: 0.540400\n",
      "Epoch 41, CIFAR-10 Batch 3:  Loss:     0.4135 Accuracy: 0.560600\n",
      "Epoch 41, CIFAR-10 Batch 4:  Loss:     0.3765 Accuracy: 0.566400\n",
      "Epoch 41, CIFAR-10 Batch 5:  Loss:     0.4033 Accuracy: 0.564200\n",
      "Epoch 42, CIFAR-10 Batch 1:  Loss:     0.4623 Accuracy: 0.548200\n",
      "Epoch 42, CIFAR-10 Batch 2:  Loss:     0.4864 Accuracy: 0.553000\n",
      "Epoch 42, CIFAR-10 Batch 3:  Loss:     0.4158 Accuracy: 0.566000\n",
      "Epoch 42, CIFAR-10 Batch 4:  Loss:     0.3476 Accuracy: 0.581600\n",
      "Epoch 42, CIFAR-10 Batch 5:  Loss:     0.3871 Accuracy: 0.569800\n",
      "Epoch 43, CIFAR-10 Batch 1:  Loss:     0.4155 Accuracy: 0.560200\n",
      "Epoch 43, CIFAR-10 Batch 2:  Loss:     0.4296 Accuracy: 0.562800\n",
      "Epoch 43, CIFAR-10 Batch 3:  Loss:     0.4247 Accuracy: 0.565800\n",
      "Epoch 43, CIFAR-10 Batch 4:  Loss:     0.3521 Accuracy: 0.573200\n",
      "Epoch 43, CIFAR-10 Batch 5:  Loss:     0.3397 Accuracy: 0.575400\n",
      "Epoch 44, CIFAR-10 Batch 1:  Loss:     0.3663 Accuracy: 0.563200\n",
      "Epoch 44, CIFAR-10 Batch 2:  Loss:     0.4249 Accuracy: 0.560000\n",
      "Epoch 44, CIFAR-10 Batch 3:  Loss:     0.3505 Accuracy: 0.559800\n",
      "Epoch 44, CIFAR-10 Batch 4:  Loss:     0.3278 Accuracy: 0.569000\n",
      "Epoch 44, CIFAR-10 Batch 5:  Loss:     0.3395 Accuracy: 0.563000\n",
      "Epoch 45, CIFAR-10 Batch 1:  Loss:     0.3386 Accuracy: 0.563200\n",
      "Epoch 45, CIFAR-10 Batch 2:  Loss:     0.4075 Accuracy: 0.571600\n",
      "Epoch 45, CIFAR-10 Batch 3:  Loss:     0.3334 Accuracy: 0.575800\n",
      "Epoch 45, CIFAR-10 Batch 4:  Loss:     0.3221 Accuracy: 0.563800\n",
      "Epoch 45, CIFAR-10 Batch 5:  Loss:     0.3567 Accuracy: 0.554400\n",
      "Epoch 46, CIFAR-10 Batch 1:  Loss:     0.3467 Accuracy: 0.557400\n",
      "Epoch 46, CIFAR-10 Batch 2:  Loss:     0.3908 Accuracy: 0.566800\n",
      "Epoch 46, CIFAR-10 Batch 3:  Loss:     0.3631 Accuracy: 0.565400\n",
      "Epoch 46, CIFAR-10 Batch 4:  Loss:     0.3407 Accuracy: 0.557200\n",
      "Epoch 46, CIFAR-10 Batch 5:  Loss:     0.3219 Accuracy: 0.573800\n",
      "Epoch 47, CIFAR-10 Batch 1:  Loss:     0.3333 Accuracy: 0.558800\n",
      "Epoch 47, CIFAR-10 Batch 2:  Loss:     0.3213 Accuracy: 0.569000\n",
      "Epoch 47, CIFAR-10 Batch 3:  Loss:     0.3236 Accuracy: 0.565600\n",
      "Epoch 47, CIFAR-10 Batch 4:  Loss:     0.3185 Accuracy: 0.544000\n",
      "Epoch 47, CIFAR-10 Batch 5:  Loss:     0.3235 Accuracy: 0.570000\n",
      "Epoch 48, CIFAR-10 Batch 1:  Loss:     0.3296 Accuracy: 0.563600\n",
      "Epoch 48, CIFAR-10 Batch 2:  Loss:     0.3002 Accuracy: 0.563200\n",
      "Epoch 48, CIFAR-10 Batch 3:  Loss:     0.2857 Accuracy: 0.553000\n",
      "Epoch 48, CIFAR-10 Batch 4:  Loss:     0.3059 Accuracy: 0.553000\n",
      "Epoch 48, CIFAR-10 Batch 5:  Loss:     0.2953 Accuracy: 0.562400\n",
      "Epoch 49, CIFAR-10 Batch 1:  Loss:     0.2710 Accuracy: 0.563000\n",
      "Epoch 49, CIFAR-10 Batch 2:  Loss:     0.2682 Accuracy: 0.562600\n",
      "Epoch 49, CIFAR-10 Batch 3:  Loss:     0.2544 Accuracy: 0.546800\n",
      "Epoch 49, CIFAR-10 Batch 4:  Loss:     0.2596 Accuracy: 0.561800\n",
      "Epoch 49, CIFAR-10 Batch 5:  Loss:     0.2796 Accuracy: 0.564200\n",
      "Epoch 50, CIFAR-10 Batch 1:  Loss:     0.2509 Accuracy: 0.565200\n",
      "Epoch 50, CIFAR-10 Batch 2:  Loss:     0.2532 Accuracy: 0.554000\n",
      "Epoch 50, CIFAR-10 Batch 3:  Loss:     0.2399 Accuracy: 0.563600\n",
      "Epoch 50, CIFAR-10 Batch 4:  Loss:     0.2641 Accuracy: 0.563400\n",
      "Epoch 50, CIFAR-10 Batch 5:  Loss:     0.2982 Accuracy: 0.553200\n"
     ]
    }
   ],
   "source": [
    "\"\"\"\n",
    "DON'T MODIFY ANYTHING IN THIS CELL\n",
    "\"\"\"\n",
    "save_model_path = './image_classification'\n",
    "\n",
    "print('Training...')\n",
    "with tf.Session() as sess:\n",
    "    # Initializing the variables\n",
    "    sess.run(tf.global_variables_initializer())\n",
    "    \n",
    "    # Training cycle\n",
    "    for epoch in range(epochs):\n",
    "        # Loop over all batches\n",
    "        n_batches = 5\n",
    "        for batch_i in range(1, n_batches + 1):\n",
    "            for batch_features, batch_labels in helper.load_preprocess_training_batch(batch_i, batch_size):\n",
    "                train_neural_network(sess, optimizer, keep_probability, batch_features, batch_labels)\n",
    "            print('Epoch {:>2}, CIFAR-10 Batch {}:  '.format(epoch + 1, batch_i), end='')\n",
    "            print_stats(sess, batch_features, batch_labels, cost, accuracy)\n",
    "            \n",
    "    # Save Model\n",
    "    saver = tf.train.Saver()\n",
    "    save_path = saver.save(sess, save_model_path)"
   ]
  },
  {
   "cell_type": "markdown",
   "metadata": {},
   "source": [
    "# Checkpoint\n",
    "The model has been saved to disk.\n",
    "## Test Model\n",
    "Test your model against the test dataset.  This will be your final accuracy. You should have an accuracy greater than 50%. If you don't, keep tweaking the model architecture and parameters."
   ]
  },
  {
   "cell_type": "code",
   "execution_count": 163,
   "metadata": {},
   "outputs": [
    {
     "name": "stdout",
     "output_type": "stream",
     "text": [
      "INFO:tensorflow:Restoring parameters from ./image_classification\n",
      "Testing Accuracy: 0.5391831338405609\n",
      "\n"
     ]
    },
    {
     "data": {
      "image/png": "[encoded data removed]",
      "text/plain": [
       "<matplotlib.figure.Figure at 0x7f1e74e10c18>"
      ]
     },
     "metadata": {
      "image/png": {
       "height": 319,
       "width": 355
      }
     },
     "output_type": "display_data"
    }
   ],
   "source": [
    "\"\"\"\n",
    "DON'T MODIFY ANYTHING IN THIS CELL\n",
    "\"\"\"\n",
    "%matplotlib inline\n",
    "%config InlineBackend.figure_format = 'retina'\n",
    "\n",
    "import tensorflow as tf\n",
    "import pickle\n",
    "import helper\n",
    "import random\n",
    "\n",
    "# Set batch size if not already set\n",
    "try:\n",
    "    if batch_size:\n",
    "        pass\n",
    "except NameError:\n",
    "    batch_size = 64\n",
    "\n",
    "save_model_path = './image_classification'\n",
    "n_samples = 4\n",
    "top_n_predictions = 3\n",
    "\n",
    "def test_model():\n",
    "    \"\"\"\n",
    "    Test the saved model against the test dataset\n",
    "    \"\"\"\n",
    "\n",
    "    test_features, test_labels = pickle.load(open('preprocess_test.p', mode='rb'))\n",
    "    loaded_graph = tf.Graph()\n",
    "\n",
    "    with tf.Session(graph=loaded_graph) as sess:\n",
    "        # Load model\n",
    "        loader = tf.train.import_meta_graph(save_model_path + '.meta')\n",
    "        loader.restore(sess, save_model_path)\n",
    "\n",
    "        # Get Tensors from loaded model\n",
    "        loaded_x = loaded_graph.get_tensor_by_name('x:0')\n",
    "        loaded_y = loaded_graph.get_tensor_by_name('y:0')\n",
    "        loaded_keep_prob = loaded_graph.get_tensor_by_name('keep_prob:0')\n",
    "        loaded_logits = loaded_graph.get_tensor_by_name('logits:0')\n",
    "        loaded_acc = loaded_graph.get_tensor_by_name('accuracy:0')\n",
    "        \n",
    "        # Get accuracy in batches for memory limitations\n",
    "        test_batch_acc_total = 0\n",
    "        test_batch_count = 0\n",
    "        \n",
    "        for test_feature_batch, test_label_batch in helper.batch_features_labels(test_features, test_labels, batch_size):\n",
    "            test_batch_acc_total += sess.run(\n",
    "                loaded_acc,\n",
    "                feed_dict={loaded_x: test_feature_batch, loaded_y: test_label_batch, loaded_keep_prob: 1.0})\n",
    "            test_batch_count += 1\n",
    "\n",
    "        print('Testing Accuracy: {}\\n'.format(test_batch_acc_total/test_batch_count))\n",
    "\n",
    "        # Print Random Samples\n",
    "        random_test_features, random_test_labels = tuple(zip(*random.sample(list(zip(test_features, test_labels)), n_samples)))\n",
    "        random_test_predictions = sess.run(\n",
    "            tf.nn.top_k(tf.nn.softmax(loaded_logits), top_n_predictions),\n",
    "            feed_dict={loaded_x: random_test_features, loaded_y: random_test_labels, loaded_keep_prob: 1.0})\n",
    "        helper.display_image_predictions(random_test_features, random_test_labels, random_test_predictions)\n",
    "\n",
    "\n",
    "test_model()"
   ]
  },
  {
   "cell_type": "markdown",
   "metadata": {},
   "source": [
    "## Why 50-80% Accuracy?\n",
    "You might be wondering why you can't get an accuracy any higher. First things first, 50% isn't bad for a simple CNN.  Pure guessing would get you 10% accuracy. However, you might notice people are getting scores [well above 80%](http://rodrigob.github.io/are_we_there_yet/build/classification_datasets_results.html#43494641522d3130).  That's because we haven't taught you all there is to know about neural networks. We still need to cover a few more techniques.\n",
    "## Submitting This Project\n",
    "When submitting this project, make sure to run all the cells before saving the notebook.  Save the notebook file as \"dlnd_image_classification.ipynb\" and save it as a HTML file under \"File\" -> \"Download as\".  Include the \"helper.py\" and \"problem_unittests.py\" files in your submission."
   ]
  }
 ],
 "metadata": {
  "anaconda-cloud": {},
  "kernelspec": {
   "display_name": "Python 3",
   "language": "python",
   "name": "python3"
  },
  "language_info": {
   "codemirror_mode": {
    "name": "ipython",
    "version": 3
   },
   "file_extension": ".py",
   "mimetype": "text/x-python",
   "name": "python",
   "nbconvert_exporter": "python",
   "pygments_lexer": "ipython3",
   "version": "3.5.3"
  },
  "widgets": {
   "state": {},
   "version": "1.1.2"
  }
 },
 "nbformat": 4,
 "nbformat_minor": 1
}
