{
 "cells": [
  {
   "cell_type": "markdown",
   "metadata": {
    "collapsed": true
   },
   "source": [
    "# Image Classification\n",
    "In this project, you'll classify images from the [CIFAR-10 dataset](https://www.cs.toronto.edu/~kriz/cifar.html).  The dataset consists of airplanes, dogs, cats, and other objects. You'll preprocess the images, then train a convolutional neural network on all the samples. The images need to be normalized and the labels need to be one-hot encoded.  You'll get to apply what you learned and build a convolutional, max pooling, dropout, and fully connected layers.  At the end, you'll get to see your neural network's predictions on the sample images.\n",
    "## Get the Data\n",
    "Run the following cell to download the [CIFAR-10 dataset for python](https://www.cs.toronto.edu/~kriz/cifar-10-python.tar.gz)."
   ]
  },
  {
   "cell_type": "code",
   "execution_count": null,
   "metadata": {
    "collapsed": true
   },
   "outputs": [],
   "source": [
    "\"\"\"\n",
    "DON'T MODIFY ANYTHING IN THIS CELL THAT IS BELOW THIS LINE\n",
    "\"\"\"\n",
    "from urllib.request import urlretrieve\n",
    "from os.path import isfile, isdir\n",
    "from tqdm import tqdm\n",
    "import problem_unittests as tests\n",
    "import tarfile\n",
    "\n",
    "cifar10_dataset_folder_path = 'cifar-10-batches-py'\n",
    "\n",
    "# Use Floyd's cifar-10 dataset if present\n",
    "floyd_cifar10_location = '/input/cifar-10/python.tar.gz'\n",
    "if isfile(floyd_cifar10_location):\n",
    "    tar_gz_path = floyd_cifar10_location\n",
    "else:\n",
    "    tar_gz_path = 'cifar-10-python.tar.gz'\n",
    "\n",
    "class DLProgress(tqdm):\n",
    "    last_block = 0\n",
    "\n",
    "    def hook(self, block_num=1, block_size=1, total_size=None):\n",
    "        self.total = total_size\n",
    "        self.update((block_num - self.last_block) * block_size)\n",
    "        self.last_block = block_num\n",
    "\n",
    "if not isfile(tar_gz_path):\n",
    "    with DLProgress(unit='B', unit_scale=True, miniters=1, desc='CIFAR-10 Dataset') as pbar:\n",
    "        urlretrieve(\n",
    "            'https://www.cs.toronto.edu/~kriz/cifar-10-python.tar.gz',\n",
    "            tar_gz_path,\n",
    "            pbar.hook)\n",
    "\n",
    "if not isdir(cifar10_dataset_folder_path):\n",
    "    with tarfile.open(tar_gz_path) as tar:\n",
    "        tar.extractall()\n",
    "        tar.close()\n",
    "\n",
    "\n",
    "tests.test_folder_path(cifar10_dataset_folder_path)"
   ]
  },
  {
   "cell_type": "markdown",
   "metadata": {},
   "source": [
    "## Explore the Data\n",
    "The dataset is broken into batches to prevent your machine from running out of memory.  The CIFAR-10 dataset consists of 5 batches, named `data_batch_1`, `data_batch_2`, etc.. Each batch contains the labels and images that are one of the following:\n",
    "* airplane\n",
    "* automobile\n",
    "* bird\n",
    "* cat\n",
    "* deer\n",
    "* dog\n",
    "* frog\n",
    "* horse\n",
    "* ship\n",
    "* truck\n",
    "\n",
    "Understanding a dataset is part of making predictions on the data.  Play around with the code cell below by changing the `batch_id` and `sample_id`. The `batch_id` is the id for a batch (1-5). The `sample_id` is the id for a image and label pair in the batch.\n",
    "\n",
    "Ask yourself \"What are all possible labels?\", \"What is the range of values for the image data?\", \"Are the labels in order or random?\".  Answers to questions like these will help you preprocess the data and end up with better predictions."
   ]
  },
  {
   "cell_type": "code",
   "execution_count": null,
   "metadata": {
    "collapsed": true
   },
   "outputs": [],
   "source": [
    "%matplotlib inline\n",
    "%config InlineBackend.figure_format = 'retina'\n",
    "\n",
    "import helper\n",
    "import numpy as np\n",
    "\n",
    "# Explore the dataset\n",
    "batch_id = 1\n",
    "sample_id = 5\n",
    "helper.display_stats(cifar10_dataset_folder_path, batch_id, sample_id)"
   ]
  },
  {
   "cell_type": "markdown",
   "metadata": {},
   "source": [
    "## Implement Preprocess Functions\n",
    "### Normalize\n",
    "In the cell below, implement the `normalize` function to take in image data, `x`, and return it as a normalized Numpy array. The values should be in the range of 0 to 1, inclusive.  The return object should be the same shape as `x`."
   ]
  },
  {
   "cell_type": "code",
   "execution_count": null,
   "metadata": {
    "collapsed": true
   },
   "outputs": [],
   "source": [
    "def normalize(x):\n",
    "    \"\"\"\n",
    "    Normalize a list of sample image data in the range of 0 to 1\n",
    "    : x: List of image data.  The image shape is (32, 32, 3)\n",
    "    : return: Numpy array of normalize data\n",
    "    \"\"\"\n",
    "    # Normalizing in parts of 255 for the color depth to be in range between 0-1\n",
    "    return x/255\n",
    "\n",
    "\n",
    "\"\"\"\n",
    "DON'T MODIFY ANYTHING IN THIS CELL THAT IS BELOW THIS LINE\n",
    "\"\"\"\n",
    "tests.test_normalize(normalize)"
   ]
  },
  {
   "cell_type": "markdown",
   "metadata": {},
   "source": [
    "### One-hot encode\n",
    "Just like the previous code cell, you'll be implementing a function for preprocessing.  This time, you'll implement the `one_hot_encode` function. The input, `x`, are a list of labels.  Implement the function to return the list of labels as One-Hot encoded Numpy array.  The possible values for labels are 0 to 9. The one-hot encoding function should return the same encoding for each value between each call to `one_hot_encode`.  Make sure to save the map of encodings outside the function.\n",
    "\n",
    "Hint: Don't reinvent the wheel."
   ]
  },
  {
   "cell_type": "code",
   "execution_count": null,
   "metadata": {
    "collapsed": true
   },
   "outputs": [],
   "source": [
    "from sklearn import preprocessing\n",
    "\n",
    "def one_hot_encode(x):\n",
    "    \"\"\"\n",
    "    One hot encode a list of sample labels. Return a one-hot encoded vector for each label.\n",
    "    : x: List of sample Labels\n",
    "    : return: Numpy array of one-hot encoded labels\n",
    "    \"\"\"\n",
    "    one_hot_labels = preprocessing.LabelBinarizer()\n",
    "    one_hot_labels.fit(range(10))\n",
    "    return one_hot_labels.transform(x)\n",
    "\n",
    "\n",
    "\n",
    "\"\"\"\n",
    "DON'T MODIFY ANYTHING IN THIS CELL THAT IS BELOW THIS LINE\n",
    "\"\"\"\n",
    "tests.test_one_hot_encode(one_hot_encode)"
   ]
  },
  {
   "cell_type": "markdown",
   "metadata": {},
   "source": [
    "### Randomize Data\n",
    "As you saw from exploring the data above, the order of the samples are randomized.  It doesn't hurt to randomize it again, but you don't need to for this dataset."
   ]
  },
  {
   "cell_type": "markdown",
   "metadata": {},
   "source": [
    "## Preprocess all the data and save it\n",
    "Running the code cell below will preprocess all the CIFAR-10 data and save it to file. The code below also uses 10% of the training data for validation."
   ]
  },
  {
   "cell_type": "code",
   "execution_count": null,
   "metadata": {
    "collapsed": true
   },
   "outputs": [],
   "source": [
    "\"\"\"\n",
    "DON'T MODIFY ANYTHING IN THIS CELL\n",
    "\"\"\"\n",
    "# Preprocess Training, Validation, and Testing Data\n",
    "helper.preprocess_and_save_data(cifar10_dataset_folder_path, normalize, one_hot_encode)"
   ]
  },
  {
   "cell_type": "markdown",
   "metadata": {},
   "source": [
    "# Check Point\n",
    "This is your first checkpoint.  If you ever decide to come back to this notebook or have to restart the notebook, you can start from here.  The preprocessed data has been saved to disk."
   ]
  },
  {
   "cell_type": "code",
   "execution_count": 99,
   "metadata": {
    "collapsed": true
   },
   "outputs": [],
   "source": [
    "\"\"\"\n",
    "DON'T MODIFY ANYTHING IN THIS CELL\n",
    "\"\"\"\n",
    "import pickle\n",
    "import problem_unittests as tests\n",
    "import helper\n",
    "\n",
    "# Load the Preprocessed Validation data\n",
    "valid_features, valid_labels = pickle.load(open('preprocess_validation.p', mode='rb'))"
   ]
  },
  {
   "cell_type": "markdown",
   "metadata": {},
   "source": [
    "## Build the network\n",
    "For the neural network, you'll build each layer into a function.  Most of the code you've seen has been outside of functions. To test your code more thoroughly, we require that you put each layer in a function.  This allows us to give you better feedback and test for simple mistakes using our unittests before you submit your project.\n",
    "\n",
    ">**Note:** If you're finding it hard to dedicate enough time for this course each week, we've provided a small shortcut to this part of the project. In the next couple of problems, you'll have the option to use classes from the [TensorFlow Layers](https://www.tensorflow.org/api_docs/python/tf/layers) or [TensorFlow Layers (contrib)](https://www.tensorflow.org/api_guides/python/contrib.layers) packages to build each layer, except the layers you build in the \"Convolutional and Max Pooling Layer\" section.  TF Layers is similar to Keras's and TFLearn's abstraction to layers, so it's easy to pickup.\n",
    "\n",
    ">However, if you would like to get the most out of this course, try to solve all the problems _without_ using anything from the TF Layers packages. You **can** still use classes from other packages that happen to have the same name as ones you find in TF Layers! For example, instead of using the TF Layers version of the `conv2d` class, [tf.layers.conv2d](https://www.tensorflow.org/api_docs/python/tf/layers/conv2d), you would want to use the TF Neural Network version of `conv2d`, [tf.nn.conv2d](https://www.tensorflow.org/api_docs/python/tf/nn/conv2d). \n",
    "\n",
    "Let's begin!\n",
    "\n",
    "### Input\n",
    "The neural network needs to read the image data, one-hot encoded labels, and dropout keep probability. Implement the following functions\n",
    "* Implement `neural_net_image_input`\n",
    " * Return a [TF Placeholder](https://www.tensorflow.org/api_docs/python/tf/placeholder)\n",
    " * Set the shape using `image_shape` with batch size set to `None`.\n",
    " * Name the TensorFlow placeholder \"x\" using the TensorFlow `name` parameter in the [TF Placeholder](https://www.tensorflow.org/api_docs/python/tf/placeholder).\n",
    "* Implement `neural_net_label_input`\n",
    " * Return a [TF Placeholder](https://www.tensorflow.org/api_docs/python/tf/placeholder)\n",
    " * Set the shape using `n_classes` with batch size set to `None`.\n",
    " * Name the TensorFlow placeholder \"y\" using the TensorFlow `name` parameter in the [TF Placeholder](https://www.tensorflow.org/api_docs/python/tf/placeholder).\n",
    "* Implement `neural_net_keep_prob_input`\n",
    " * Return a [TF Placeholder](https://www.tensorflow.org/api_docs/python/tf/placeholder) for dropout keep probability.\n",
    " * Name the TensorFlow placeholder \"keep_prob\" using the TensorFlow `name` parameter in the [TF Placeholder](https://www.tensorflow.org/api_docs/python/tf/placeholder).\n",
    "\n",
    "These names will be used at the end of the project to load your saved model.\n",
    "\n",
    "Note: `None` for shapes in TensorFlow allow for a dynamic size."
   ]
  },
  {
   "cell_type": "code",
   "execution_count": 100,
   "metadata": {},
   "outputs": [
    {
     "name": "stdout",
     "output_type": "stream",
     "text": [
      "Image Input Tests Passed.\n",
      "Label Input Tests Passed.\n",
      "Keep Prob Tests Passed.\n"
     ]
    }
   ],
   "source": [
    "import tensorflow as tf\n",
    "\n",
    "def neural_net_image_input(image_shape):\n",
    "    \"\"\"\n",
    "    Return a Tensor for a batch of image input\n",
    "    : image_shape: Shape of the images\n",
    "    : return: Tensor for image input.\n",
    "    \"\"\"\n",
    "    x = tf.placeholder(tf.float32, shape = [None,*image_shape], name = \"x\")\n",
    "    return x\n",
    "\n",
    "\n",
    "def neural_net_label_input(n_classes):\n",
    "    \"\"\"\n",
    "    Return a Tensor for a batch of label input\n",
    "    : n_classes: Number of classes\n",
    "    : return: Tensor for label input.\n",
    "    \"\"\"\n",
    "    y = tf.placeholder(tf.float32, shape=[None, n_classes], name=\"y\")\n",
    "    \n",
    "    return y\n",
    "\n",
    "\n",
    "def neural_net_keep_prob_input():\n",
    "    \"\"\"\n",
    "    Return a Tensor for keep probability\n",
    "    : return: Tensor for keep probability.\n",
    "    \"\"\"\n",
    "    keep_prob = tf.placeholder(tf.float32, name = 'keep_prob') #dropout (keep probability)\n",
    "    return keep_prob\n",
    "\n",
    "\n",
    "\"\"\"\n",
    "DON'T MODIFY ANYTHING IN THIS CELL THAT IS BELOW THIS LINE\n",
    "\"\"\"\n",
    "tf.reset_default_graph()\n",
    "tests.test_nn_image_inputs(neural_net_image_input)\n",
    "tests.test_nn_label_inputs(neural_net_label_input)\n",
    "tests.test_nn_keep_prob_inputs(neural_net_keep_prob_input)"
   ]
  },
  {
   "cell_type": "markdown",
   "metadata": {},
   "source": [
    "### Convolution and Max Pooling Layer\n",
    "Convolution layers have a lot of success with images. For this code cell, you should implement the function `conv2d_maxpool` to apply convolution then max pooling:\n",
    "* Create the weight and bias using `conv_ksize`, `conv_num_outputs` and the shape of `x_tensor`.\n",
    "* Apply a convolution to `x_tensor` using weight and `conv_strides`.\n",
    " * We recommend you use same padding, but you're welcome to use any padding.\n",
    "* Add bias\n",
    "* Add a nonlinear activation to the convolution.\n",
    "* Apply Max Pooling using `pool_ksize` and `pool_strides`.\n",
    " * We recommend you use same padding, but you're welcome to use any padding.\n",
    "\n",
    "**Note:** You **can't** use [TensorFlow Layers](https://www.tensorflow.org/api_docs/python/tf/layers) or [TensorFlow Layers (contrib)](https://www.tensorflow.org/api_guides/python/contrib.layers) for **this** layer, but you can still use TensorFlow's [Neural Network](https://www.tensorflow.org/api_docs/python/tf/nn) package. You may still use the shortcut option for all the **other** layers."
   ]
  },
  {
   "cell_type": "code",
   "execution_count": 117,
   "metadata": {},
   "outputs": [
    {
     "name": "stdout",
     "output_type": "stream",
     "text": [
      "Tests Passed\n"
     ]
    }
   ],
   "source": [
    "def conv2d_maxpool(x_tensor, conv_num_outputs, conv_ksize, conv_strides, pool_ksize, pool_strides):\n",
    "    \"\"\"\n",
    "    Apply convolution then max pooling to x_tensor\n",
    "    :param x_tensor: TensorFlow Tensor\n",
    "    :param conv_num_outputs: Number of outputs for the convolutional layer\n",
    "    :param conv_ksize: kernal size 2-D Tuple for the convolutional layer\n",
    "    :param conv_strides: Stride 2-D Tuple for convolution\n",
    "    :param pool_ksize: kernal size 2-D Tuple for pool\n",
    "    :param pool_strides: Stride 2-D Tuple for pool\n",
    "    : return: A tensor that represents convolution and max pooling of x_tensor\n",
    "    \"\"\"\n",
    "    #print(x_tensor.get_shape().as_list())\n",
    "    _, filter_height, filter_width, filter_depth = x_tensor.get_shape().as_list() \n",
    "    filter_weights = tf.Variable(tf.truncated_normal([*conv_ksize,  \n",
    "                                                      filter_depth, conv_num_outputs], stddev = 0.01), name=\"filter_weights\")\n",
    "    biases = tf.Variable(tf.zeros([conv_num_outputs]))\n",
    "    #conv = tf.nn.conv2d(input, filter_weights, strides, padding) + filter_bias\n",
    "    conv = tf.nn.conv2d(x_tensor, filter_weights, strides=[1, *conv_strides, 1], padding='SAME')\n",
    "    #conv_layer = tf.nn.max_pool(conv_layer, ksize=[1, 2, 2, 1],strides=[1, 2, 2, 1], padding='SAME')\n",
    "    conv = tf.nn.bias_add(conv, biases)\n",
    "    conv = tf.nn.relu(conv)\n",
    "    max_pool = tf.nn.max_pool(conv, [1, *pool_ksize, 1],[1, *pool_strides, 1], padding='SAME')\n",
    "    return max_pool \n",
    "\n",
    "\n",
    "\"\"\"\n",
    "DON'T MODIFY ANYTHING IN THIS CELL THAT IS BELOW THIS LINE\n",
    "\"\"\"\n",
    "tests.test_con_pool(conv2d_maxpool)"
   ]
  },
  {
   "cell_type": "markdown",
   "metadata": {},
   "source": [
    "### Flatten Layer\n",
    "Implement the `flatten` function to change the dimension of `x_tensor` from a 4-D tensor to a 2-D tensor.  The output should be the shape (*Batch Size*, *Flattened Image Size*). Shortcut option: you can use classes from the [TensorFlow Layers](https://www.tensorflow.org/api_docs/python/tf/layers) or [TensorFlow Layers (contrib)](https://www.tensorflow.org/api_guides/python/contrib.layers) packages for this layer. For more of a challenge, only use other TensorFlow packages."
   ]
  },
  {
   "cell_type": "code",
   "execution_count": null,
   "metadata": {
    "collapsed": true
   },
   "outputs": [],
   "source": []
  },
  {
   "cell_type": "code",
   "execution_count": 118,
   "metadata": {},
   "outputs": [
    {
     "name": "stdout",
     "output_type": "stream",
     "text": [
      "Tests Passed\n"
     ]
    }
   ],
   "source": [
    "def flatten(x_tensor):\n",
    "    \"\"\"\n",
    "    Flatten x_tensor to (Batch Size, Flattened Image Size)\n",
    "    : x_tensor: A tensor of size (Batch Size, ...), where ... are the image dimensions.\n",
    "    : return: A tensor of size (Batch Size, Flattened Image Size).\n",
    "    \"\"\"\n",
    "    x_batch_size, x_height, x_width, x_depth = x_tensor.get_shape().as_list()\n",
    "    x_flatten_tensor = tf.reshape(x_tensor, [-1, x_height * x_width * x_depth])\n",
    "    #print(x_tensor.shape, x_flatten_tensor.shape)\n",
    "    return x_flatten_tensor\n",
    "\n",
    "\n",
    "\"\"\"\n",
    "DON'T MODIFY ANYTHING IN THIS CELL THAT IS BELOW THIS LINE\n",
    "\"\"\"\n",
    "tests.test_flatten(flatten)"
   ]
  },
  {
   "cell_type": "markdown",
   "metadata": {},
   "source": [
    "### Fully-Connected Layer\n",
    "Implement the `fully_conn` function to apply a fully connected layer to `x_tensor` with the shape (*Batch Size*, *num_outputs*). Shortcut option: you can use classes from the [TensorFlow Layers](https://www.tensorflow.org/api_docs/python/tf/layers) or [TensorFlow Layers (contrib)](https://www.tensorflow.org/api_guides/python/contrib.layers) packages for this layer. For more of a challenge, only use other TensorFlow packages."
   ]
  },
  {
   "cell_type": "code",
   "execution_count": 119,
   "metadata": {},
   "outputs": [
    {
     "name": "stdout",
     "output_type": "stream",
     "text": [
      "Tests Passed\n"
     ]
    }
   ],
   "source": [
    "def fully_conn(x_tensor, num_outputs):\n",
    "    \"\"\"\n",
    "    Apply a fully connected layer to x_tensor using weight and bias\n",
    "    : x_tensor: A 2-D tensor where the first dimension is batch size.\n",
    "    : num_outputs: The number of output that the new tensor should be.\n",
    "    : return: A 2-D tensor where the second dimension is num_outputs.\n",
    "    \"\"\"\n",
    "    full_weights = tf.Variable(tf.truncated_normal([x_tensor.shape[1].value, num_outputs], stddev = 0.01))\n",
    "    full_biases = tf.Variable(tf.zeros([num_outputs]))\n",
    "    connected_layer = tf.add(tf.matmul(x_tensor, full_weights), full_biases)\n",
    "    connected_layer = tf.nn.relu(connected_layer)\n",
    "    return connected_layer\n",
    "\n",
    "\n",
    "\"\"\"\n",
    "DON'T MODIFY ANYTHING IN THIS CELL THAT IS BELOW THIS LINE\n",
    "\"\"\"\n",
    "tests.test_fully_conn(fully_conn)"
   ]
  },
  {
   "cell_type": "markdown",
   "metadata": {},
   "source": [
    "### Output Layer\n",
    "Implement the `output` function to apply a fully connected layer to `x_tensor` with the shape (*Batch Size*, *num_outputs*). Shortcut option: you can use classes from the [TensorFlow Layers](https://www.tensorflow.org/api_docs/python/tf/layers) or [TensorFlow Layers (contrib)](https://www.tensorflow.org/api_guides/python/contrib.layers) packages for this layer. For more of a challenge, only use other TensorFlow packages.\n",
    "\n",
    "**Note:** Activation, softmax, or cross entropy should **not** be applied to this."
   ]
  },
  {
   "cell_type": "code",
   "execution_count": 132,
   "metadata": {},
   "outputs": [
    {
     "name": "stdout",
     "output_type": "stream",
     "text": [
      "Tests Passed\n"
     ]
    }
   ],
   "source": [
    "def output(x_tensor, num_outputs):\n",
    "    \"\"\"\n",
    "    Apply a output layer to x_tensor using weight and bias\n",
    "    : x_tensor: A 2-D tensor where the first dimension is batch size.\n",
    "    : num_outputs: The number of output that the new tensor should be.\n",
    "    : return: A 2-D tensor where the second dimension is num_outputs.\n",
    "    \"\"\"\n",
    "    tensor_dims = x_tensor.get_shape().as_list()\n",
    "    \n",
    "    op_weights = tf.Variable(tf.truncated_normal([tensor_dims[1], num_outputs], stddev = 0.01))\n",
    "    op_bias = tf.Variable(tf.zeros([num_outputs]))\n",
    "    \n",
    "    op_output = tf.add(tf.matmul(x_tensor, op_weights), op_bias)\n",
    "    \n",
    "    return op_output\n",
    "\n",
    "\n",
    "\"\"\"\n",
    "DON'T MODIFY ANYTHING IN THIS CELL THAT IS BELOW THIS LINE\n",
    "\"\"\"\n",
    "tests.test_output(output)"
   ]
  },
  {
   "cell_type": "markdown",
   "metadata": {},
   "source": [
    "### Create Convolutional Model\n",
    "Implement the function `conv_net` to create a convolutional neural network model. The function takes in a batch of images, `x`, and outputs logits.  Use the layers you created above to create this model:\n",
    "\n",
    "* Apply 1, 2, or 3 Convolution and Max Pool layers\n",
    "* Apply a Flatten Layer\n",
    "* Apply 1, 2, or 3 Fully Connected Layers\n",
    "* Apply an Output Layer\n",
    "* Return the output\n",
    "* Apply [TensorFlow's Dropout](https://www.tensorflow.org/api_docs/python/tf/nn/dropout) to one or more layers in the model using `keep_prob`. "
   ]
  },
  {
   "cell_type": "code",
   "execution_count": 133,
   "metadata": {},
   "outputs": [
    {
     "name": "stdout",
     "output_type": "stream",
     "text": [
      "Neural Network Built!\n"
     ]
    }
   ],
   "source": [
    "#### \n",
    "def conv_net(x, keep_prob):\n",
    "    \"\"\"\n",
    "    Create a convolutional neural network model\n",
    "    : x: Placeholder tensor that holds image data.\n",
    "    : keep_prob: Placeholder tensor that hold dropout keep probability.\n",
    "    : return: Tensor that represents logits\n",
    "    \"\"\"\n",
    "    # TODO: Apply 1, 2, or 3 Convolution and Max Pool layers\n",
    "    #    Play around with different number of outputs, kernel size and stride\n",
    "    # Function Definition from Above:\n",
    "    #    conv2d_maxpool(x_tensor, conv_num_outputs, conv_ksize, conv_strides, pool_ksize, pool_strides)\n",
    "    \n",
    "\n",
    "    # TODO: Apply a Flatten Layer\n",
    "    # Function Definition from Above:\n",
    "    #   flatten(x_tensor)\n",
    "    \n",
    "\n",
    "    # TODO: Apply 1, 2, or 3 Fully Connected Layers\n",
    "    #    Play around with different number of outputs\n",
    "    # Function Definition from Above:\n",
    "    #   fully_conn(x_tensor, num_outputs)\n",
    "    \n",
    "    \n",
    "    # TODO: Apply an Output Layer\n",
    "    #    Set this to the number of classes\n",
    "    # Function Definition from Above:\n",
    "    #   output(x_tensor, num_outputs)\n",
    "    \n",
    "    \n",
    "    # TODO: return output\n",
    "    conv_strides = [2, 2]\n",
    "    conv_ksize = [2,2]\n",
    "    pool_strides = [2, 2]\n",
    "    pool_ksize = [2, 2]\n",
    "    #Conv 1\n",
    "    output_tensor = conv2d_maxpool(x, 256, conv_ksize, conv_strides, pool_ksize, pool_strides)\n",
    "    #Conv 2\n",
    "    output_tensor = conv2d_maxpool(output_tensor, 512, conv_ksize, conv_strides, pool_ksize, pool_strides)\n",
    "    #Flatten the output\n",
    "    output_tensor = flatten(output_tensor)\n",
    "    \n",
    "    output_tensor = fully_conn(output_tensor, 512)\n",
    "    #Drop out for not overfitting\n",
    "    output_tensor = tf.nn.dropout(output_tensor, keep_prob)\n",
    "    output_tensor = fully_conn(output_tensor, 256)\n",
    "    #Drop out for not overfitting\n",
    "    output_tensor = tf.nn.dropout(output_tensor, keep_prob)\n",
    "    \n",
    "    \n",
    "    #Retrieve output for this batch\n",
    "    output_tensor = output(output_tensor, 10)\n",
    "        \n",
    "    return output_tensor\n",
    "\n",
    "\n",
    "\"\"\"\n",
    "DON'T MODIFY ANYTHING IN THIS CELL THAT IS BELOW THIS LINE\n",
    "\"\"\"\n",
    "\n",
    "##############################\n",
    "## Build the Neural Network ##\n",
    "##############################\n",
    "\n",
    "# Remove previous weights, bias, inputs, etc..\n",
    "tf.reset_default_graph()\n",
    "\n",
    "# Inputs\n",
    "x = neural_net_image_input((32, 32, 3))\n",
    "y = neural_net_label_input(10)\n",
    "keep_prob = neural_net_keep_prob_input()\n",
    "\n",
    "# Model\n",
    "logits = conv_net(x, keep_prob)\n",
    "\n",
    "# Name logits Tensor, so that is can be loaded from disk after training\n",
    "logits = tf.identity(logits, name='logits')\n",
    "\n",
    "# Loss and Optimizer\n",
    "cost = tf.reduce_mean(tf.nn.softmax_cross_entropy_with_logits(logits=logits, labels=y))\n",
    "optimizer = tf.train.AdamOptimizer().minimize(cost)\n",
    "\n",
    "# Accuracy\n",
    "correct_pred = tf.equal(tf.argmax(logits, 1), tf.argmax(y, 1))\n",
    "accuracy = tf.reduce_mean(tf.cast(correct_pred, tf.float32), name='accuracy')\n",
    "\n",
    "tests.test_conv_net(conv_net)"
   ]
  },
  {
   "cell_type": "markdown",
   "metadata": {},
   "source": [
    "## Train the Neural Network\n",
    "### Single Optimization\n",
    "Implement the function `train_neural_network` to do a single optimization.  The optimization should use `optimizer` to optimize in `session` with a `feed_dict` of the following:\n",
    "* `x` for image input\n",
    "* `y` for labels\n",
    "* `keep_prob` for keep probability for dropout\n",
    "\n",
    "This function will be called for each batch, so `tf.global_variables_initializer()` has already been called.\n",
    "\n",
    "Note: Nothing needs to be returned. This function is only optimizing the neural network."
   ]
  },
  {
   "cell_type": "code",
   "execution_count": 134,
   "metadata": {},
   "outputs": [
    {
     "name": "stdout",
     "output_type": "stream",
     "text": [
      "Tests Passed\n"
     ]
    }
   ],
   "source": [
    "def train_neural_network(session, optimizer, keep_probability, feature_batch, label_batch):\n",
    "    \"\"\"\n",
    "    Optimize the session on a batch of images and labels\n",
    "    : session: Current TensorFlow session\n",
    "    : optimizer: TensorFlow optimizer function\n",
    "    : keep_probability: keep probability\n",
    "    : feature_batch: Batch of Numpy image data\n",
    "    : label_batch: Batch of Numpy label data\n",
    "    \"\"\"\n",
    "    \n",
    "    session.run(optimizer, feed_dict={x: feature_batch, y: label_batch, keep_prob: keep_probability})\n",
    "\n",
    "\n",
    "\"\"\"\n",
    "DON'T MODIFY ANYTHING IN THIS CELL THAT IS BELOW THIS LINE\n",
    "\"\"\"\n",
    "tests.test_train_nn(train_neural_network)"
   ]
  },
  {
   "cell_type": "markdown",
   "metadata": {},
   "source": [
    "### Show Stats\n",
    "Implement the function `print_stats` to print loss and validation accuracy.  Use the global variables `valid_features` and `valid_labels` to calculate validation accuracy.  Use a keep probability of `1.0` to calculate the loss and validation accuracy."
   ]
  },
  {
   "cell_type": "code",
   "execution_count": 135,
   "metadata": {
    "collapsed": true
   },
   "outputs": [],
   "source": [
    "def print_stats(session, feature_batch, label_batch, cost, accuracy):\n",
    "    \"\"\"\n",
    "    Print information about loss and validation accuracy\n",
    "    : session: Current TensorFlow session\n",
    "    : feature_batch: Batch of Numpy image data\n",
    "    : label_batch: Batch of Numpy label data\n",
    "    : cost: TensorFlow cost function\n",
    "    : accuracy: TensorFlow accuracy function\n",
    "    \"\"\"\n",
    "    #print(len(valid_features))\n",
    "    loss = session.run(cost,\n",
    "                   feed_dict={\n",
    "                       x: feature_batch,\n",
    "                       y: label_batch,\n",
    "                       keep_prob: 1.0})\n",
    "\n",
    "    acc = session.run(accuracy,\n",
    "                        feed_dict={\n",
    "                            x: valid_features,\n",
    "                            y: valid_labels,\n",
    "                            keep_prob: 1.0})\n",
    "    \n",
    "    print('Loss: {:>10.4f} Accuracy: {:.6f}'.format(loss, acc))\n",
    "    "
   ]
  },
  {
   "cell_type": "markdown",
   "metadata": {},
   "source": [
    "### Hyperparameters\n",
    "Tune the following parameters:\n",
    "* Set `epochs` to the number of iterations until the network stops learning or start overfitting\n",
    "* Set `batch_size` to the highest number that your machine has memory for.  Most people set them to common sizes of memory:\n",
    " * 64\n",
    " * 128\n",
    " * 256\n",
    " * ...\n",
    "* Set `keep_probability` to the probability of keeping a node using dropout"
   ]
  },
  {
   "cell_type": "code",
   "execution_count": 136,
   "metadata": {
    "collapsed": true
   },
   "outputs": [],
   "source": [
    "# TODO: Tune Parameters\n",
    "epochs = 50\n",
    "batch_size = 512\n",
    "keep_probability = 0.75"
   ]
  },
  {
   "cell_type": "markdown",
   "metadata": {},
   "source": [
    "### Train on a Single CIFAR-10 Batch\n",
    "Instead of training the neural network on all the CIFAR-10 batches of data, let's use a single batch. This should save time while you iterate on the model to get a better accuracy.  Once the final validation accuracy is 50% or greater, run the model on all the data in the next section."
   ]
  },
  {
   "cell_type": "code",
   "execution_count": 137,
   "metadata": {
    "scrolled": true
   },
   "outputs": [
    {
     "name": "stdout",
     "output_type": "stream",
     "text": [
      "Checking the Training on a Single Batch...\n",
      "Epoch  1, CIFAR-10 Batch 1:  Loss:     2.2780 Accuracy: 0.129400\n",
      "Epoch  2, CIFAR-10 Batch 1:  Loss:     2.1656 Accuracy: 0.209800\n",
      "Epoch  3, CIFAR-10 Batch 1:  Loss:     2.0881 Accuracy: 0.219800\n",
      "Epoch  4, CIFAR-10 Batch 1:  Loss:     2.0633 Accuracy: 0.229000\n",
      "Epoch  5, CIFAR-10 Batch 1:  Loss:     2.0199 Accuracy: 0.257800\n",
      "Epoch  6, CIFAR-10 Batch 1:  Loss:     1.9921 Accuracy: 0.258200\n",
      "Epoch  7, CIFAR-10 Batch 1:  Loss:     1.9612 Accuracy: 0.272200\n",
      "Epoch  8, CIFAR-10 Batch 1:  Loss:     1.9210 Accuracy: 0.283600\n",
      "Epoch  9, CIFAR-10 Batch 1:  Loss:     1.9181 Accuracy: 0.276600\n",
      "Epoch 10, CIFAR-10 Batch 1:  Loss:     1.8423 Accuracy: 0.332600\n",
      "Epoch 11, CIFAR-10 Batch 1:  Loss:     1.8028 Accuracy: 0.343600\n",
      "Epoch 12, CIFAR-10 Batch 1:  Loss:     1.7803 Accuracy: 0.345800\n",
      "Epoch 13, CIFAR-10 Batch 1:  Loss:     1.7412 Accuracy: 0.362400\n",
      "Epoch 14, CIFAR-10 Batch 1:  Loss:     1.7054 Accuracy: 0.370000\n",
      "Epoch 15, CIFAR-10 Batch 1:  Loss:     1.6648 Accuracy: 0.386000\n",
      "Epoch 16, CIFAR-10 Batch 1:  Loss:     1.6250 Accuracy: 0.388000\n",
      "Epoch 17, CIFAR-10 Batch 1:  Loss:     1.5916 Accuracy: 0.390000\n",
      "Epoch 18, CIFAR-10 Batch 1:  Loss:     1.5755 Accuracy: 0.395000\n",
      "Epoch 19, CIFAR-10 Batch 1:  Loss:     1.5454 Accuracy: 0.398400\n",
      "Epoch 20, CIFAR-10 Batch 1:  Loss:     1.5380 Accuracy: 0.405200\n",
      "Epoch 21, CIFAR-10 Batch 1:  Loss:     1.5031 Accuracy: 0.419000\n",
      "Epoch 22, CIFAR-10 Batch 1:  Loss:     1.4993 Accuracy: 0.414600\n",
      "Epoch 23, CIFAR-10 Batch 1:  Loss:     1.5056 Accuracy: 0.413800\n",
      "Epoch 24, CIFAR-10 Batch 1:  Loss:     1.4572 Accuracy: 0.427000\n",
      "Epoch 25, CIFAR-10 Batch 1:  Loss:     1.4384 Accuracy: 0.426400\n",
      "Epoch 26, CIFAR-10 Batch 1:  Loss:     1.4256 Accuracy: 0.429600\n",
      "Epoch 27, CIFAR-10 Batch 1:  Loss:     1.4031 Accuracy: 0.445800\n",
      "Epoch 28, CIFAR-10 Batch 1:  Loss:     1.4220 Accuracy: 0.443400\n",
      "Epoch 29, CIFAR-10 Batch 1:  Loss:     1.3682 Accuracy: 0.457000\n",
      "Epoch 30, CIFAR-10 Batch 1:  Loss:     1.3414 Accuracy: 0.454400\n",
      "Epoch 31, CIFAR-10 Batch 1:  Loss:     1.3222 Accuracy: 0.462200\n",
      "Epoch 32, CIFAR-10 Batch 1:  Loss:     1.3018 Accuracy: 0.464400\n",
      "Epoch 33, CIFAR-10 Batch 1:  Loss:     1.2693 Accuracy: 0.470200\n",
      "Epoch 34, CIFAR-10 Batch 1:  Loss:     1.2512 Accuracy: 0.474400\n",
      "Epoch 35, CIFAR-10 Batch 1:  Loss:     1.2322 Accuracy: 0.479200\n",
      "Epoch 36, CIFAR-10 Batch 1:  Loss:     1.2227 Accuracy: 0.478000\n",
      "Epoch 37, CIFAR-10 Batch 1:  Loss:     1.1866 Accuracy: 0.486000\n",
      "Epoch 38, CIFAR-10 Batch 1:  Loss:     1.1534 Accuracy: 0.493000\n",
      "Epoch 39, CIFAR-10 Batch 1:  Loss:     1.1856 Accuracy: 0.489000\n",
      "Epoch 40, CIFAR-10 Batch 1:  Loss:     1.1263 Accuracy: 0.497600\n",
      "Epoch 41, CIFAR-10 Batch 1:  Loss:     1.1032 Accuracy: 0.503800\n",
      "Epoch 42, CIFAR-10 Batch 1:  Loss:     1.0667 Accuracy: 0.502200\n",
      "Epoch 43, CIFAR-10 Batch 1:  Loss:     1.0442 Accuracy: 0.508200\n",
      "Epoch 44, CIFAR-10 Batch 1:  Loss:     1.0071 Accuracy: 0.511800\n",
      "Epoch 45, CIFAR-10 Batch 1:  Loss:     0.9885 Accuracy: 0.513600\n",
      "Epoch 46, CIFAR-10 Batch 1:  Loss:     0.9750 Accuracy: 0.514400\n",
      "Epoch 47, CIFAR-10 Batch 1:  Loss:     0.9444 Accuracy: 0.517400\n",
      "Epoch 48, CIFAR-10 Batch 1:  Loss:     0.9231 Accuracy: 0.516000\n",
      "Epoch 49, CIFAR-10 Batch 1:  Loss:     0.8890 Accuracy: 0.517400\n",
      "Epoch 50, CIFAR-10 Batch 1:  Loss:     0.9118 Accuracy: 0.510400\n"
     ]
    }
   ],
   "source": [
    "\"\"\"\n",
    "DON'T MODIFY ANYTHING IN THIS CELL\n",
    "\"\"\"\n",
    "print('Checking the Training on a Single Batch...')\n",
    "with tf.Session() as sess:\n",
    "    # Initializing the variables\n",
    "    sess.run(tf.global_variables_initializer())\n",
    "    \n",
    "    # Training cycle\n",
    "    for epoch in range(epochs):\n",
    "        batch_i = 1\n",
    "        for batch_features, batch_labels in helper.load_preprocess_training_batch(batch_i, batch_size):\n",
    "            train_neural_network(sess, optimizer, keep_probability, batch_features, batch_labels)\n",
    "        print('Epoch {:>2}, CIFAR-10 Batch {}:  '.format(epoch + 1, batch_i), end='')\n",
    "        print_stats(sess, batch_features, batch_labels, cost, accuracy)"
   ]
  },
  {
   "cell_type": "markdown",
   "metadata": {},
   "source": [
    "### Fully Train the Model\n",
    "Now that you got a good accuracy with a single CIFAR-10 batch, try it with all five batches."
   ]
  },
  {
   "cell_type": "code",
   "execution_count": 138,
   "metadata": {},
   "outputs": [
    {
     "name": "stdout",
     "output_type": "stream",
     "text": [
      "Training...\n",
      "Epoch  1, CIFAR-10 Batch 1:  Loss:     2.2801 Accuracy: 0.125800\n",
      "Epoch  1, CIFAR-10 Batch 2:  Loss:     2.1190 Accuracy: 0.202400\n",
      "Epoch  1, CIFAR-10 Batch 3:  Loss:     2.0403 Accuracy: 0.231400\n",
      "Epoch  1, CIFAR-10 Batch 4:  Loss:     1.9740 Accuracy: 0.255200\n",
      "Epoch  1, CIFAR-10 Batch 5:  Loss:     1.9706 Accuracy: 0.277600\n",
      "Epoch  2, CIFAR-10 Batch 1:  Loss:     1.9979 Accuracy: 0.254600\n",
      "Epoch  2, CIFAR-10 Batch 2:  Loss:     1.8640 Accuracy: 0.298400\n",
      "Epoch  2, CIFAR-10 Batch 3:  Loss:     1.7903 Accuracy: 0.311000\n",
      "Epoch  2, CIFAR-10 Batch 4:  Loss:     1.7829 Accuracy: 0.315400\n",
      "Epoch  2, CIFAR-10 Batch 5:  Loss:     1.8043 Accuracy: 0.332000\n",
      "Epoch  3, CIFAR-10 Batch 1:  Loss:     1.8219 Accuracy: 0.338800\n",
      "Epoch  3, CIFAR-10 Batch 2:  Loss:     1.7242 Accuracy: 0.352800\n",
      "Epoch  3, CIFAR-10 Batch 3:  Loss:     1.5918 Accuracy: 0.360000\n",
      "Epoch  3, CIFAR-10 Batch 4:  Loss:     1.6156 Accuracy: 0.371200\n",
      "Epoch  3, CIFAR-10 Batch 5:  Loss:     1.6920 Accuracy: 0.365000\n",
      "Epoch  4, CIFAR-10 Batch 1:  Loss:     1.7255 Accuracy: 0.371400\n",
      "Epoch  4, CIFAR-10 Batch 2:  Loss:     1.6599 Accuracy: 0.381800\n",
      "Epoch  4, CIFAR-10 Batch 3:  Loss:     1.5232 Accuracy: 0.367400\n",
      "Epoch  4, CIFAR-10 Batch 4:  Loss:     1.5252 Accuracy: 0.411800\n",
      "Epoch  4, CIFAR-10 Batch 5:  Loss:     1.5721 Accuracy: 0.412600\n",
      "Epoch  5, CIFAR-10 Batch 1:  Loss:     1.5936 Accuracy: 0.420400\n",
      "Epoch  5, CIFAR-10 Batch 2:  Loss:     1.5352 Accuracy: 0.431200\n",
      "Epoch  5, CIFAR-10 Batch 3:  Loss:     1.3616 Accuracy: 0.418800\n",
      "Epoch  5, CIFAR-10 Batch 4:  Loss:     1.4446 Accuracy: 0.437400\n",
      "Epoch  5, CIFAR-10 Batch 5:  Loss:     1.4805 Accuracy: 0.436800\n",
      "Epoch  6, CIFAR-10 Batch 1:  Loss:     1.5380 Accuracy: 0.442200\n",
      "Epoch  6, CIFAR-10 Batch 2:  Loss:     1.4512 Accuracy: 0.454200\n",
      "Epoch  6, CIFAR-10 Batch 3:  Loss:     1.2931 Accuracy: 0.434200\n",
      "Epoch  6, CIFAR-10 Batch 4:  Loss:     1.3725 Accuracy: 0.466000\n",
      "Epoch  6, CIFAR-10 Batch 5:  Loss:     1.3989 Accuracy: 0.464000\n",
      "Epoch  7, CIFAR-10 Batch 1:  Loss:     1.4647 Accuracy: 0.469000\n",
      "Epoch  7, CIFAR-10 Batch 2:  Loss:     1.3740 Accuracy: 0.467600\n",
      "Epoch  7, CIFAR-10 Batch 3:  Loss:     1.2149 Accuracy: 0.462200\n",
      "Epoch  7, CIFAR-10 Batch 4:  Loss:     1.3097 Accuracy: 0.487600\n",
      "Epoch  7, CIFAR-10 Batch 5:  Loss:     1.3232 Accuracy: 0.493000\n",
      "Epoch  8, CIFAR-10 Batch 1:  Loss:     1.3941 Accuracy: 0.494800\n",
      "Epoch  8, CIFAR-10 Batch 2:  Loss:     1.2963 Accuracy: 0.491800\n",
      "Epoch  8, CIFAR-10 Batch 3:  Loss:     1.1521 Accuracy: 0.486000\n",
      "Epoch  8, CIFAR-10 Batch 4:  Loss:     1.2392 Accuracy: 0.510400\n",
      "Epoch  8, CIFAR-10 Batch 5:  Loss:     1.2952 Accuracy: 0.502800\n",
      "Epoch  9, CIFAR-10 Batch 1:  Loss:     1.3454 Accuracy: 0.503400\n",
      "Epoch  9, CIFAR-10 Batch 2:  Loss:     1.2310 Accuracy: 0.517400\n",
      "Epoch  9, CIFAR-10 Batch 3:  Loss:     1.0794 Accuracy: 0.507200\n",
      "Epoch  9, CIFAR-10 Batch 4:  Loss:     1.1879 Accuracy: 0.527800\n",
      "Epoch  9, CIFAR-10 Batch 5:  Loss:     1.2090 Accuracy: 0.532200\n",
      "Epoch 10, CIFAR-10 Batch 1:  Loss:     1.2922 Accuracy: 0.521400\n",
      "Epoch 10, CIFAR-10 Batch 2:  Loss:     1.1734 Accuracy: 0.535800\n",
      "Epoch 10, CIFAR-10 Batch 3:  Loss:     1.0268 Accuracy: 0.538000\n",
      "Epoch 10, CIFAR-10 Batch 4:  Loss:     1.1376 Accuracy: 0.538400\n",
      "Epoch 10, CIFAR-10 Batch 5:  Loss:     1.1455 Accuracy: 0.546400\n",
      "Epoch 11, CIFAR-10 Batch 1:  Loss:     1.2355 Accuracy: 0.544200\n",
      "Epoch 11, CIFAR-10 Batch 2:  Loss:     1.1314 Accuracy: 0.553800\n",
      "Epoch 11, CIFAR-10 Batch 3:  Loss:     0.9881 Accuracy: 0.550600\n",
      "Epoch 11, CIFAR-10 Batch 4:  Loss:     1.0763 Accuracy: 0.554800\n",
      "Epoch 11, CIFAR-10 Batch 5:  Loss:     1.0986 Accuracy: 0.555400\n",
      "Epoch 12, CIFAR-10 Batch 1:  Loss:     1.2102 Accuracy: 0.548000\n",
      "Epoch 12, CIFAR-10 Batch 2:  Loss:     1.0864 Accuracy: 0.559400\n",
      "Epoch 12, CIFAR-10 Batch 3:  Loss:     0.9510 Accuracy: 0.558800\n",
      "Epoch 12, CIFAR-10 Batch 4:  Loss:     1.0245 Accuracy: 0.562600\n",
      "Epoch 12, CIFAR-10 Batch 5:  Loss:     1.0431 Accuracy: 0.568600\n",
      "Epoch 13, CIFAR-10 Batch 1:  Loss:     1.1492 Accuracy: 0.566800\n",
      "Epoch 13, CIFAR-10 Batch 2:  Loss:     1.0582 Accuracy: 0.563800\n",
      "Epoch 13, CIFAR-10 Batch 3:  Loss:     0.9440 Accuracy: 0.556200\n",
      "Epoch 13, CIFAR-10 Batch 4:  Loss:     0.9979 Accuracy: 0.566000\n",
      "Epoch 13, CIFAR-10 Batch 5:  Loss:     1.0054 Accuracy: 0.576600\n",
      "Epoch 14, CIFAR-10 Batch 1:  Loss:     1.1067 Accuracy: 0.574600\n",
      "Epoch 14, CIFAR-10 Batch 2:  Loss:     1.0493 Accuracy: 0.565800\n",
      "Epoch 14, CIFAR-10 Batch 3:  Loss:     0.8763 Accuracy: 0.579600\n",
      "Epoch 14, CIFAR-10 Batch 4:  Loss:     0.9454 Accuracy: 0.587200\n",
      "Epoch 14, CIFAR-10 Batch 5:  Loss:     0.9697 Accuracy: 0.582400\n",
      "Epoch 15, CIFAR-10 Batch 1:  Loss:     1.0561 Accuracy: 0.586800\n",
      "Epoch 15, CIFAR-10 Batch 2:  Loss:     0.9685 Accuracy: 0.586600\n",
      "Epoch 15, CIFAR-10 Batch 3:  Loss:     0.8531 Accuracy: 0.591000\n",
      "Epoch 15, CIFAR-10 Batch 4:  Loss:     0.9098 Accuracy: 0.586400\n",
      "Epoch 15, CIFAR-10 Batch 5:  Loss:     0.9178 Accuracy: 0.596200\n",
      "Epoch 16, CIFAR-10 Batch 1:  Loss:     1.0287 Accuracy: 0.593200\n",
      "Epoch 16, CIFAR-10 Batch 2:  Loss:     0.9093 Accuracy: 0.595800\n",
      "Epoch 16, CIFAR-10 Batch 3:  Loss:     0.8272 Accuracy: 0.592800\n",
      "Epoch 16, CIFAR-10 Batch 4:  Loss:     0.8745 Accuracy: 0.588200\n",
      "Epoch 16, CIFAR-10 Batch 5:  Loss:     0.8712 Accuracy: 0.598400\n",
      "Epoch 17, CIFAR-10 Batch 1:  Loss:     0.9711 Accuracy: 0.594400\n",
      "Epoch 17, CIFAR-10 Batch 2:  Loss:     0.8598 Accuracy: 0.609600\n",
      "Epoch 17, CIFAR-10 Batch 3:  Loss:     0.7759 Accuracy: 0.592200\n",
      "Epoch 17, CIFAR-10 Batch 4:  Loss:     0.8092 Accuracy: 0.602800\n",
      "Epoch 17, CIFAR-10 Batch 5:  Loss:     0.8264 Accuracy: 0.602200\n",
      "Epoch 18, CIFAR-10 Batch 1:  Loss:     0.9191 Accuracy: 0.608600\n",
      "Epoch 18, CIFAR-10 Batch 2:  Loss:     0.8049 Accuracy: 0.621800\n",
      "Epoch 18, CIFAR-10 Batch 3:  Loss:     0.7430 Accuracy: 0.590600\n",
      "Epoch 18, CIFAR-10 Batch 4:  Loss:     0.7970 Accuracy: 0.599800\n",
      "Epoch 18, CIFAR-10 Batch 5:  Loss:     0.7656 Accuracy: 0.613000\n",
      "Epoch 19, CIFAR-10 Batch 1:  Loss:     0.8599 Accuracy: 0.611000\n",
      "Epoch 19, CIFAR-10 Batch 2:  Loss:     0.7725 Accuracy: 0.616600\n",
      "Epoch 19, CIFAR-10 Batch 3:  Loss:     0.7091 Accuracy: 0.599400\n",
      "Epoch 19, CIFAR-10 Batch 4:  Loss:     0.7596 Accuracy: 0.607000\n",
      "Epoch 19, CIFAR-10 Batch 5:  Loss:     0.7359 Accuracy: 0.615800\n",
      "Epoch 20, CIFAR-10 Batch 1:  Loss:     0.8329 Accuracy: 0.619200\n",
      "Epoch 20, CIFAR-10 Batch 2:  Loss:     0.7367 Accuracy: 0.617200\n",
      "Epoch 20, CIFAR-10 Batch 3:  Loss:     0.7101 Accuracy: 0.593600\n",
      "Epoch 20, CIFAR-10 Batch 4:  Loss:     0.7104 Accuracy: 0.610000\n",
      "Epoch 20, CIFAR-10 Batch 5:  Loss:     0.7328 Accuracy: 0.609600\n",
      "Epoch 21, CIFAR-10 Batch 1:  Loss:     0.7970 Accuracy: 0.622200\n",
      "Epoch 21, CIFAR-10 Batch 2:  Loss:     0.7342 Accuracy: 0.614000\n",
      "Epoch 21, CIFAR-10 Batch 3:  Loss:     0.7026 Accuracy: 0.606400\n",
      "Epoch 21, CIFAR-10 Batch 4:  Loss:     0.6997 Accuracy: 0.611800\n",
      "Epoch 21, CIFAR-10 Batch 5:  Loss:     0.6834 Accuracy: 0.623800\n",
      "Epoch 22, CIFAR-10 Batch 1:  Loss:     0.7843 Accuracy: 0.613800\n",
      "Epoch 22, CIFAR-10 Batch 2:  Loss:     0.7552 Accuracy: 0.597200\n",
      "Epoch 22, CIFAR-10 Batch 3:  Loss:     0.6032 Accuracy: 0.617000\n",
      "Epoch 22, CIFAR-10 Batch 4:  Loss:     0.6528 Accuracy: 0.615400\n",
      "Epoch 22, CIFAR-10 Batch 5:  Loss:     0.6423 Accuracy: 0.628600\n",
      "Epoch 23, CIFAR-10 Batch 1:  Loss:     0.7240 Accuracy: 0.626000\n",
      "Epoch 23, CIFAR-10 Batch 2:  Loss:     0.7212 Accuracy: 0.599200\n",
      "Epoch 23, CIFAR-10 Batch 3:  Loss:     0.5730 Accuracy: 0.631800\n",
      "Epoch 23, CIFAR-10 Batch 4:  Loss:     0.5728 Accuracy: 0.625600\n",
      "Epoch 23, CIFAR-10 Batch 5:  Loss:     0.6094 Accuracy: 0.639200\n",
      "Epoch 24, CIFAR-10 Batch 1:  Loss:     0.6894 Accuracy: 0.634200\n",
      "Epoch 24, CIFAR-10 Batch 2:  Loss:     0.6697 Accuracy: 0.603000\n",
      "Epoch 24, CIFAR-10 Batch 3:  Loss:     0.5633 Accuracy: 0.638200\n",
      "Epoch 24, CIFAR-10 Batch 4:  Loss:     0.5670 Accuracy: 0.630200\n",
      "Epoch 24, CIFAR-10 Batch 5:  Loss:     0.5788 Accuracy: 0.640400\n",
      "Epoch 25, CIFAR-10 Batch 1:  Loss:     0.6602 Accuracy: 0.632400\n",
      "Epoch 25, CIFAR-10 Batch 2:  Loss:     0.6166 Accuracy: 0.620200\n",
      "Epoch 25, CIFAR-10 Batch 3:  Loss:     0.5167 Accuracy: 0.641800\n",
      "Epoch 25, CIFAR-10 Batch 4:  Loss:     0.5319 Accuracy: 0.629600\n",
      "Epoch 25, CIFAR-10 Batch 5:  Loss:     0.5327 Accuracy: 0.644600\n",
      "Epoch 26, CIFAR-10 Batch 1:  Loss:     0.6227 Accuracy: 0.637400\n"
     ]
    },
    {
     "name": "stdout",
     "output_type": "stream",
     "text": [
      "Epoch 26, CIFAR-10 Batch 2:  Loss:     0.5743 Accuracy: 0.617800\n",
      "Epoch 26, CIFAR-10 Batch 3:  Loss:     0.4924 Accuracy: 0.641200\n",
      "Epoch 26, CIFAR-10 Batch 4:  Loss:     0.5107 Accuracy: 0.631400\n",
      "Epoch 26, CIFAR-10 Batch 5:  Loss:     0.5333 Accuracy: 0.640600\n",
      "Epoch 27, CIFAR-10 Batch 1:  Loss:     0.5971 Accuracy: 0.637000\n",
      "Epoch 27, CIFAR-10 Batch 2:  Loss:     0.5371 Accuracy: 0.626800\n",
      "Epoch 27, CIFAR-10 Batch 3:  Loss:     0.4885 Accuracy: 0.640600\n",
      "Epoch 27, CIFAR-10 Batch 4:  Loss:     0.5005 Accuracy: 0.628400\n",
      "Epoch 27, CIFAR-10 Batch 5:  Loss:     0.5560 Accuracy: 0.628200\n",
      "Epoch 28, CIFAR-10 Batch 1:  Loss:     0.6120 Accuracy: 0.633400\n",
      "Epoch 28, CIFAR-10 Batch 2:  Loss:     0.5605 Accuracy: 0.614000\n",
      "Epoch 28, CIFAR-10 Batch 3:  Loss:     0.4758 Accuracy: 0.636200\n",
      "Epoch 28, CIFAR-10 Batch 4:  Loss:     0.4598 Accuracy: 0.641000\n",
      "Epoch 28, CIFAR-10 Batch 5:  Loss:     0.4991 Accuracy: 0.638400\n",
      "Epoch 29, CIFAR-10 Batch 1:  Loss:     0.5797 Accuracy: 0.643400\n",
      "Epoch 29, CIFAR-10 Batch 2:  Loss:     0.5157 Accuracy: 0.625200\n",
      "Epoch 29, CIFAR-10 Batch 3:  Loss:     0.4419 Accuracy: 0.638600\n",
      "Epoch 29, CIFAR-10 Batch 4:  Loss:     0.4457 Accuracy: 0.638800\n",
      "Epoch 29, CIFAR-10 Batch 5:  Loss:     0.4573 Accuracy: 0.642400\n",
      "Epoch 30, CIFAR-10 Batch 1:  Loss:     0.5209 Accuracy: 0.647800\n",
      "Epoch 30, CIFAR-10 Batch 2:  Loss:     0.4910 Accuracy: 0.617000\n",
      "Epoch 30, CIFAR-10 Batch 3:  Loss:     0.4182 Accuracy: 0.647200\n",
      "Epoch 30, CIFAR-10 Batch 4:  Loss:     0.4221 Accuracy: 0.632800\n",
      "Epoch 30, CIFAR-10 Batch 5:  Loss:     0.4066 Accuracy: 0.645600\n",
      "Epoch 31, CIFAR-10 Batch 1:  Loss:     0.4913 Accuracy: 0.643800\n",
      "Epoch 31, CIFAR-10 Batch 2:  Loss:     0.4652 Accuracy: 0.620400\n",
      "Epoch 31, CIFAR-10 Batch 3:  Loss:     0.4120 Accuracy: 0.632200\n",
      "Epoch 31, CIFAR-10 Batch 4:  Loss:     0.4040 Accuracy: 0.649400\n",
      "Epoch 31, CIFAR-10 Batch 5:  Loss:     0.3728 Accuracy: 0.649200\n",
      "Epoch 32, CIFAR-10 Batch 1:  Loss:     0.4432 Accuracy: 0.650200\n",
      "Epoch 32, CIFAR-10 Batch 2:  Loss:     0.4406 Accuracy: 0.619600\n",
      "Epoch 32, CIFAR-10 Batch 3:  Loss:     0.4015 Accuracy: 0.625000\n",
      "Epoch 32, CIFAR-10 Batch 4:  Loss:     0.3977 Accuracy: 0.635200\n",
      "Epoch 32, CIFAR-10 Batch 5:  Loss:     0.3717 Accuracy: 0.653200\n",
      "Epoch 33, CIFAR-10 Batch 1:  Loss:     0.4028 Accuracy: 0.646400\n",
      "Epoch 33, CIFAR-10 Batch 2:  Loss:     0.4037 Accuracy: 0.630000\n",
      "Epoch 33, CIFAR-10 Batch 3:  Loss:     0.3329 Accuracy: 0.646800\n",
      "Epoch 33, CIFAR-10 Batch 4:  Loss:     0.3826 Accuracy: 0.635800\n",
      "Epoch 33, CIFAR-10 Batch 5:  Loss:     0.3758 Accuracy: 0.634600\n",
      "Epoch 34, CIFAR-10 Batch 1:  Loss:     0.3884 Accuracy: 0.644000\n",
      "Epoch 34, CIFAR-10 Batch 2:  Loss:     0.3818 Accuracy: 0.639600\n",
      "Epoch 34, CIFAR-10 Batch 3:  Loss:     0.3260 Accuracy: 0.639200\n",
      "Epoch 34, CIFAR-10 Batch 4:  Loss:     0.3537 Accuracy: 0.631800\n",
      "Epoch 34, CIFAR-10 Batch 5:  Loss:     0.3257 Accuracy: 0.638800\n",
      "Epoch 35, CIFAR-10 Batch 1:  Loss:     0.3818 Accuracy: 0.636800\n",
      "Epoch 35, CIFAR-10 Batch 2:  Loss:     0.3689 Accuracy: 0.636000\n",
      "Epoch 35, CIFAR-10 Batch 3:  Loss:     0.3357 Accuracy: 0.639000\n",
      "Epoch 35, CIFAR-10 Batch 4:  Loss:     0.3385 Accuracy: 0.630400\n",
      "Epoch 35, CIFAR-10 Batch 5:  Loss:     0.3091 Accuracy: 0.637600\n",
      "Epoch 36, CIFAR-10 Batch 1:  Loss:     0.3801 Accuracy: 0.640600\n",
      "Epoch 36, CIFAR-10 Batch 2:  Loss:     0.3580 Accuracy: 0.636000\n",
      "Epoch 36, CIFAR-10 Batch 3:  Loss:     0.2991 Accuracy: 0.646200\n",
      "Epoch 36, CIFAR-10 Batch 4:  Loss:     0.3030 Accuracy: 0.632000\n",
      "Epoch 36, CIFAR-10 Batch 5:  Loss:     0.2864 Accuracy: 0.647400\n",
      "Epoch 37, CIFAR-10 Batch 1:  Loss:     0.3883 Accuracy: 0.627400\n",
      "Epoch 37, CIFAR-10 Batch 2:  Loss:     0.4393 Accuracy: 0.617000\n",
      "Epoch 37, CIFAR-10 Batch 3:  Loss:     0.2998 Accuracy: 0.645200\n",
      "Epoch 37, CIFAR-10 Batch 4:  Loss:     0.2975 Accuracy: 0.627400\n",
      "Epoch 37, CIFAR-10 Batch 5:  Loss:     0.3201 Accuracy: 0.636600\n",
      "Epoch 38, CIFAR-10 Batch 1:  Loss:     0.4506 Accuracy: 0.590600\n",
      "Epoch 38, CIFAR-10 Batch 2:  Loss:     0.4269 Accuracy: 0.616800\n",
      "Epoch 38, CIFAR-10 Batch 3:  Loss:     0.3007 Accuracy: 0.641600\n",
      "Epoch 38, CIFAR-10 Batch 4:  Loss:     0.2619 Accuracy: 0.638600\n",
      "Epoch 38, CIFAR-10 Batch 5:  Loss:     0.2967 Accuracy: 0.630200\n",
      "Epoch 39, CIFAR-10 Batch 1:  Loss:     0.3595 Accuracy: 0.619800\n",
      "Epoch 39, CIFAR-10 Batch 2:  Loss:     0.3513 Accuracy: 0.626000\n",
      "Epoch 39, CIFAR-10 Batch 3:  Loss:     0.2872 Accuracy: 0.641400\n",
      "Epoch 39, CIFAR-10 Batch 4:  Loss:     0.2562 Accuracy: 0.631200\n",
      "Epoch 39, CIFAR-10 Batch 5:  Loss:     0.2662 Accuracy: 0.640200\n",
      "Epoch 40, CIFAR-10 Batch 1:  Loss:     0.3496 Accuracy: 0.627800\n",
      "Epoch 40, CIFAR-10 Batch 2:  Loss:     0.2841 Accuracy: 0.634400\n",
      "Epoch 40, CIFAR-10 Batch 3:  Loss:     0.2647 Accuracy: 0.640400\n",
      "Epoch 40, CIFAR-10 Batch 4:  Loss:     0.2341 Accuracy: 0.635000\n",
      "Epoch 40, CIFAR-10 Batch 5:  Loss:     0.2540 Accuracy: 0.632200\n",
      "Epoch 41, CIFAR-10 Batch 1:  Loss:     0.3026 Accuracy: 0.627400\n",
      "Epoch 41, CIFAR-10 Batch 2:  Loss:     0.2717 Accuracy: 0.640000\n",
      "Epoch 41, CIFAR-10 Batch 3:  Loss:     0.2856 Accuracy: 0.635000\n",
      "Epoch 41, CIFAR-10 Batch 4:  Loss:     0.2106 Accuracy: 0.636800\n",
      "Epoch 41, CIFAR-10 Batch 5:  Loss:     0.2329 Accuracy: 0.630400\n",
      "Epoch 42, CIFAR-10 Batch 1:  Loss:     0.2628 Accuracy: 0.636200\n",
      "Epoch 42, CIFAR-10 Batch 2:  Loss:     0.2274 Accuracy: 0.641600\n",
      "Epoch 42, CIFAR-10 Batch 3:  Loss:     0.2020 Accuracy: 0.640800\n",
      "Epoch 42, CIFAR-10 Batch 4:  Loss:     0.1825 Accuracy: 0.642400\n",
      "Epoch 42, CIFAR-10 Batch 5:  Loss:     0.1955 Accuracy: 0.631200\n",
      "Epoch 43, CIFAR-10 Batch 1:  Loss:     0.2286 Accuracy: 0.640400\n",
      "Epoch 43, CIFAR-10 Batch 2:  Loss:     0.2311 Accuracy: 0.629600\n",
      "Epoch 43, CIFAR-10 Batch 3:  Loss:     0.2068 Accuracy: 0.637400\n",
      "Epoch 43, CIFAR-10 Batch 4:  Loss:     0.1620 Accuracy: 0.642600\n",
      "Epoch 43, CIFAR-10 Batch 5:  Loss:     0.1976 Accuracy: 0.631200\n",
      "Epoch 44, CIFAR-10 Batch 1:  Loss:     0.2020 Accuracy: 0.641800\n",
      "Epoch 44, CIFAR-10 Batch 2:  Loss:     0.2394 Accuracy: 0.616800\n",
      "Epoch 44, CIFAR-10 Batch 3:  Loss:     0.2020 Accuracy: 0.630800\n",
      "Epoch 44, CIFAR-10 Batch 4:  Loss:     0.1521 Accuracy: 0.633200\n",
      "Epoch 44, CIFAR-10 Batch 5:  Loss:     0.1687 Accuracy: 0.636800\n",
      "Epoch 45, CIFAR-10 Batch 1:  Loss:     0.1878 Accuracy: 0.650000\n",
      "Epoch 45, CIFAR-10 Batch 2:  Loss:     0.2191 Accuracy: 0.627600\n",
      "Epoch 45, CIFAR-10 Batch 3:  Loss:     0.2238 Accuracy: 0.619600\n",
      "Epoch 45, CIFAR-10 Batch 4:  Loss:     0.1509 Accuracy: 0.637800\n",
      "Epoch 45, CIFAR-10 Batch 5:  Loss:     0.1888 Accuracy: 0.621800\n",
      "Epoch 46, CIFAR-10 Batch 1:  Loss:     0.1921 Accuracy: 0.641400\n",
      "Epoch 46, CIFAR-10 Batch 2:  Loss:     0.1779 Accuracy: 0.630000\n",
      "Epoch 46, CIFAR-10 Batch 3:  Loss:     0.1756 Accuracy: 0.624600\n",
      "Epoch 46, CIFAR-10 Batch 4:  Loss:     0.1451 Accuracy: 0.636000\n",
      "Epoch 46, CIFAR-10 Batch 5:  Loss:     0.1362 Accuracy: 0.638400\n",
      "Epoch 47, CIFAR-10 Batch 1:  Loss:     0.1588 Accuracy: 0.647800\n",
      "Epoch 47, CIFAR-10 Batch 2:  Loss:     0.1669 Accuracy: 0.633600\n",
      "Epoch 47, CIFAR-10 Batch 3:  Loss:     0.1395 Accuracy: 0.640400\n",
      "Epoch 47, CIFAR-10 Batch 4:  Loss:     0.1287 Accuracy: 0.636400\n",
      "Epoch 47, CIFAR-10 Batch 5:  Loss:     0.1274 Accuracy: 0.644200\n",
      "Epoch 48, CIFAR-10 Batch 1:  Loss:     0.1429 Accuracy: 0.652200\n",
      "Epoch 48, CIFAR-10 Batch 2:  Loss:     0.1412 Accuracy: 0.646200\n",
      "Epoch 48, CIFAR-10 Batch 3:  Loss:     0.1278 Accuracy: 0.642400\n",
      "Epoch 48, CIFAR-10 Batch 4:  Loss:     0.1300 Accuracy: 0.639600\n",
      "Epoch 48, CIFAR-10 Batch 5:  Loss:     0.1163 Accuracy: 0.631400\n",
      "Epoch 49, CIFAR-10 Batch 1:  Loss:     0.1411 Accuracy: 0.653200\n",
      "Epoch 49, CIFAR-10 Batch 2:  Loss:     0.1204 Accuracy: 0.647800\n",
      "Epoch 49, CIFAR-10 Batch 3:  Loss:     0.1242 Accuracy: 0.639400\n",
      "Epoch 49, CIFAR-10 Batch 4:  Loss:     0.1061 Accuracy: 0.636000\n",
      "Epoch 49, CIFAR-10 Batch 5:  Loss:     0.1029 Accuracy: 0.637200\n",
      "Epoch 50, CIFAR-10 Batch 1:  Loss:     0.1275 Accuracy: 0.634200\n",
      "Epoch 50, CIFAR-10 Batch 2:  Loss:     0.1250 Accuracy: 0.651200\n",
      "Epoch 50, CIFAR-10 Batch 3:  Loss:     0.1217 Accuracy: 0.636400\n",
      "Epoch 50, CIFAR-10 Batch 4:  Loss:     0.0976 Accuracy: 0.635400\n",
      "Epoch 50, CIFAR-10 Batch 5:  Loss:     0.1126 Accuracy: 0.634000\n"
     ]
    }
   ],
   "source": [
    "\"\"\"\n",
    "DON'T MODIFY ANYTHING IN THIS CELL\n",
    "\"\"\"\n",
    "save_model_path = './image_classification'\n",
    "\n",
    "print('Training...')\n",
    "with tf.Session() as sess:\n",
    "    # Initializing the variables\n",
    "    sess.run(tf.global_variables_initializer())\n",
    "    \n",
    "    # Training cycle\n",
    "    for epoch in range(epochs):\n",
    "        # Loop over all batches\n",
    "        n_batches = 5\n",
    "        for batch_i in range(1, n_batches + 1):\n",
    "            for batch_features, batch_labels in helper.load_preprocess_training_batch(batch_i, batch_size):\n",
    "                train_neural_network(sess, optimizer, keep_probability, batch_features, batch_labels)\n",
    "            print('Epoch {:>2}, CIFAR-10 Batch {}:  '.format(epoch + 1, batch_i), end='')\n",
    "            print_stats(sess, batch_features, batch_labels, cost, accuracy)\n",
    "            \n",
    "    # Save Model\n",
    "    saver = tf.train.Saver()\n",
    "    save_path = saver.save(sess, save_model_path)"
   ]
  },
  {
   "cell_type": "markdown",
   "metadata": {},
   "source": [
    "# Checkpoint\n",
    "The model has been saved to disk.\n",
    "## Test Model\n",
    "Test your model against the test dataset.  This will be your final accuracy. You should have an accuracy greater than 50%. If you don't, keep tweaking the model architecture and parameters."
   ]
  },
  {
   "cell_type": "code",
   "execution_count": 140,
   "metadata": {},
   "outputs": [
    {
     "name": "stdout",
     "output_type": "stream",
     "text": [
      "INFO:tensorflow:Restoring parameters from ./image_classification\n",
      "Testing Accuracy: 0.626734834909439\n",
      "\n"
     ]
    },
    {
     "data": {
      "image/png": "[encoded data removed]",
      "text/plain": [
       "<matplotlib.figure.Figure at 0x7ff37a29c080>"
      ]
     },
     "metadata": {
      "image/png": {
       "height": 319,
       "width": 355
      }
     },
     "output_type": "display_data"
    }
   ],
   "source": [
    "\"\"\"\n",
    "DON'T MODIFY ANYTHING IN THIS CELL\n",
    "\"\"\"\n",
    "%matplotlib inline\n",
    "%config InlineBackend.figure_format = 'retina'\n",
    "\n",
    "import tensorflow as tf\n",
    "import pickle\n",
    "import helper\n",
    "import random\n",
    "\n",
    "# Set batch size if not already set\n",
    "try:\n",
    "    if batch_size:\n",
    "        pass\n",
    "except NameError:\n",
    "    batch_size = 64\n",
    "\n",
    "save_model_path = './image_classification'\n",
    "n_samples = 4\n",
    "top_n_predictions = 3\n",
    "\n",
    "def test_model():\n",
    "    \"\"\"\n",
    "    Test the saved model against the test dataset\n",
    "    \"\"\"\n",
    "\n",
    "    test_features, test_labels = pickle.load(open('preprocess_test.p', mode='rb'))\n",
    "    loaded_graph = tf.Graph()\n",
    "\n",
    "    with tf.Session(graph=loaded_graph) as sess:\n",
    "        # Load model\n",
    "        loader = tf.train.import_meta_graph(save_model_path + '.meta')\n",
    "        loader.restore(sess, save_model_path)\n",
    "\n",
    "        # Get Tensors from loaded model\n",
    "        loaded_x = loaded_graph.get_tensor_by_name('x:0')\n",
    "        loaded_y = loaded_graph.get_tensor_by_name('y:0')\n",
    "        loaded_keep_prob = loaded_graph.get_tensor_by_name('keep_prob:0')\n",
    "        loaded_logits = loaded_graph.get_tensor_by_name('logits:0')\n",
    "        loaded_acc = loaded_graph.get_tensor_by_name('accuracy:0')\n",
    "        \n",
    "        # Get accuracy in batches for memory limitations\n",
    "        test_batch_acc_total = 0\n",
    "        test_batch_count = 0\n",
    "        \n",
    "        for test_feature_batch, test_label_batch in helper.batch_features_labels(test_features, test_labels, batch_size):\n",
    "            test_batch_acc_total += sess.run(\n",
    "                loaded_acc,\n",
    "                feed_dict={loaded_x: test_feature_batch, loaded_y: test_label_batch, loaded_keep_prob: 1.0})\n",
    "            test_batch_count += 1\n",
    "\n",
    "        print('Testing Accuracy: {}\\n'.format(test_batch_acc_total/test_batch_count))\n",
    "\n",
    "        # Print Random Samples\n",
    "        random_test_features, random_test_labels = tuple(zip(*random.sample(list(zip(test_features, test_labels)), n_samples)))\n",
    "        random_test_predictions = sess.run(\n",
    "            tf.nn.top_k(tf.nn.softmax(loaded_logits), top_n_predictions),\n",
    "            feed_dict={loaded_x: random_test_features, loaded_y: random_test_labels, loaded_keep_prob: 1.0})\n",
    "        helper.display_image_predictions(random_test_features, random_test_labels, random_test_predictions)\n",
    "\n",
    "\n",
    "test_model()"
   ]
  },
  {
   "cell_type": "markdown",
   "metadata": {},
   "source": [
    "## Why 50-80% Accuracy?\n",
    "You might be wondering why you can't get an accuracy any higher. First things first, 50% isn't bad for a simple CNN.  Pure guessing would get you 10% accuracy. However, you might notice people are getting scores [well above 80%](http://rodrigob.github.io/are_we_there_yet/build/classification_datasets_results.html#43494641522d3130).  That's because we haven't taught you all there is to know about neural networks. We still need to cover a few more techniques.\n",
    "## Submitting This Project\n",
    "When submitting this project, make sure to run all the cells before saving the notebook.  Save the notebook file as \"dlnd_image_classification.ipynb\" and save it as a HTML file under \"File\" -> \"Download as\".  Include the \"helper.py\" and \"problem_unittests.py\" files in your submission."
   ]
  }
 ],
 "metadata": {
  "anaconda-cloud": {},
  "kernelspec": {
   "display_name": "Python 3",
   "language": "python",
   "name": "python3"
  },
  "language_info": {
   "codemirror_mode": {
    "name": "ipython",
    "version": 3
   },
   "file_extension": ".py",
   "mimetype": "text/x-python",
   "name": "python",
   "nbconvert_exporter": "python",
   "pygments_lexer": "ipython3",
   "version": "3.5.3"
  },
  "widgets": {
   "state": {},
   "version": "1.1.2"
  }
 },
 "nbformat": 4,
 "nbformat_minor": 1
}
